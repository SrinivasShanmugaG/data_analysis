{
 "cells": [
  {
   "cell_type": "markdown",
   "id": "0ae3cf95",
   "metadata": {},
   "source": [
    "# Importing packages"
   ]
  },
  {
   "cell_type": "code",
   "execution_count": 231,
   "id": "1fb0d5db",
   "metadata": {},
   "outputs": [],
   "source": [
    "import numpy as np\n",
    "import pandas as pd\n",
    "import matplotlib.pyplot as plt\n",
    "import seaborn as sns\n",
    "\n",
    "%matplotlib inline\n",
    "import warnings\n",
    "warnings.filterwarnings(\"ignore\")"
   ]
  },
  {
   "cell_type": "code",
   "execution_count": 232,
   "id": "c0e5c8b1",
   "metadata": {},
   "outputs": [],
   "source": [
    "market_comp_df = pd.read_excel('marketing_campaign.xlsx',sheet_name='Sheet1')"
   ]
  },
  {
   "cell_type": "code",
   "execution_count": 233,
   "id": "acbb1157",
   "metadata": {},
   "outputs": [
    {
     "data": {
      "text/html": [
       "<div>\n",
       "<style scoped>\n",
       "    .dataframe tbody tr th:only-of-type {\n",
       "        vertical-align: middle;\n",
       "    }\n",
       "\n",
       "    .dataframe tbody tr th {\n",
       "        vertical-align: top;\n",
       "    }\n",
       "\n",
       "    .dataframe thead th {\n",
       "        text-align: right;\n",
       "    }\n",
       "</style>\n",
       "<table border=\"1\" class=\"dataframe\">\n",
       "  <thead>\n",
       "    <tr style=\"text-align: right;\">\n",
       "      <th></th>\n",
       "      <th>ID</th>\n",
       "      <th>Year_Birth</th>\n",
       "      <th>Education</th>\n",
       "      <th>Marital_Status</th>\n",
       "      <th>Income</th>\n",
       "      <th>Kidhome</th>\n",
       "      <th>Teenhome</th>\n",
       "      <th>Dt_Customer</th>\n",
       "      <th>Recency</th>\n",
       "      <th>MntWines</th>\n",
       "      <th>...</th>\n",
       "      <th>NumWebVisitsMonth</th>\n",
       "      <th>AcceptedCmp3</th>\n",
       "      <th>AcceptedCmp4</th>\n",
       "      <th>AcceptedCmp5</th>\n",
       "      <th>AcceptedCmp1</th>\n",
       "      <th>AcceptedCmp2</th>\n",
       "      <th>Complain</th>\n",
       "      <th>Z_CostContact</th>\n",
       "      <th>Z_Revenue</th>\n",
       "      <th>Response</th>\n",
       "    </tr>\n",
       "  </thead>\n",
       "  <tbody>\n",
       "    <tr>\n",
       "      <th>0</th>\n",
       "      <td>5524</td>\n",
       "      <td>1957</td>\n",
       "      <td>Graduation</td>\n",
       "      <td>Single</td>\n",
       "      <td>58138.0</td>\n",
       "      <td>0</td>\n",
       "      <td>0</td>\n",
       "      <td>2012-09-04</td>\n",
       "      <td>58</td>\n",
       "      <td>635</td>\n",
       "      <td>...</td>\n",
       "      <td>7</td>\n",
       "      <td>0</td>\n",
       "      <td>0</td>\n",
       "      <td>0</td>\n",
       "      <td>0</td>\n",
       "      <td>0</td>\n",
       "      <td>0</td>\n",
       "      <td>3</td>\n",
       "      <td>11</td>\n",
       "      <td>1</td>\n",
       "    </tr>\n",
       "    <tr>\n",
       "      <th>1</th>\n",
       "      <td>2174</td>\n",
       "      <td>1954</td>\n",
       "      <td>Graduation</td>\n",
       "      <td>Single</td>\n",
       "      <td>46344.0</td>\n",
       "      <td>1</td>\n",
       "      <td>1</td>\n",
       "      <td>2014-03-08</td>\n",
       "      <td>38</td>\n",
       "      <td>11</td>\n",
       "      <td>...</td>\n",
       "      <td>5</td>\n",
       "      <td>0</td>\n",
       "      <td>0</td>\n",
       "      <td>0</td>\n",
       "      <td>0</td>\n",
       "      <td>0</td>\n",
       "      <td>0</td>\n",
       "      <td>3</td>\n",
       "      <td>11</td>\n",
       "      <td>0</td>\n",
       "    </tr>\n",
       "    <tr>\n",
       "      <th>2</th>\n",
       "      <td>4141</td>\n",
       "      <td>1965</td>\n",
       "      <td>Graduation</td>\n",
       "      <td>Together</td>\n",
       "      <td>71613.0</td>\n",
       "      <td>0</td>\n",
       "      <td>0</td>\n",
       "      <td>2013-08-21</td>\n",
       "      <td>26</td>\n",
       "      <td>426</td>\n",
       "      <td>...</td>\n",
       "      <td>4</td>\n",
       "      <td>0</td>\n",
       "      <td>0</td>\n",
       "      <td>0</td>\n",
       "      <td>0</td>\n",
       "      <td>0</td>\n",
       "      <td>0</td>\n",
       "      <td>3</td>\n",
       "      <td>11</td>\n",
       "      <td>0</td>\n",
       "    </tr>\n",
       "    <tr>\n",
       "      <th>3</th>\n",
       "      <td>6182</td>\n",
       "      <td>1984</td>\n",
       "      <td>Graduation</td>\n",
       "      <td>Together</td>\n",
       "      <td>26646.0</td>\n",
       "      <td>1</td>\n",
       "      <td>0</td>\n",
       "      <td>2014-02-10</td>\n",
       "      <td>26</td>\n",
       "      <td>11</td>\n",
       "      <td>...</td>\n",
       "      <td>6</td>\n",
       "      <td>0</td>\n",
       "      <td>0</td>\n",
       "      <td>0</td>\n",
       "      <td>0</td>\n",
       "      <td>0</td>\n",
       "      <td>0</td>\n",
       "      <td>3</td>\n",
       "      <td>11</td>\n",
       "      <td>0</td>\n",
       "    </tr>\n",
       "    <tr>\n",
       "      <th>4</th>\n",
       "      <td>5324</td>\n",
       "      <td>1981</td>\n",
       "      <td>PhD</td>\n",
       "      <td>Married</td>\n",
       "      <td>58293.0</td>\n",
       "      <td>1</td>\n",
       "      <td>0</td>\n",
       "      <td>2014-01-19</td>\n",
       "      <td>94</td>\n",
       "      <td>173</td>\n",
       "      <td>...</td>\n",
       "      <td>5</td>\n",
       "      <td>0</td>\n",
       "      <td>0</td>\n",
       "      <td>0</td>\n",
       "      <td>0</td>\n",
       "      <td>0</td>\n",
       "      <td>0</td>\n",
       "      <td>3</td>\n",
       "      <td>11</td>\n",
       "      <td>0</td>\n",
       "    </tr>\n",
       "  </tbody>\n",
       "</table>\n",
       "<p>5 rows × 29 columns</p>\n",
       "</div>"
      ],
      "text/plain": [
       "     ID  Year_Birth   Education Marital_Status   Income  Kidhome  Teenhome  \\\n",
       "0  5524        1957  Graduation         Single  58138.0        0         0   \n",
       "1  2174        1954  Graduation         Single  46344.0        1         1   \n",
       "2  4141        1965  Graduation       Together  71613.0        0         0   \n",
       "3  6182        1984  Graduation       Together  26646.0        1         0   \n",
       "4  5324        1981         PhD        Married  58293.0        1         0   \n",
       "\n",
       "  Dt_Customer  Recency  MntWines  ...  NumWebVisitsMonth  AcceptedCmp3  \\\n",
       "0  2012-09-04       58       635  ...                  7             0   \n",
       "1  2014-03-08       38        11  ...                  5             0   \n",
       "2  2013-08-21       26       426  ...                  4             0   \n",
       "3  2014-02-10       26        11  ...                  6             0   \n",
       "4  2014-01-19       94       173  ...                  5             0   \n",
       "\n",
       "   AcceptedCmp4  AcceptedCmp5  AcceptedCmp1  AcceptedCmp2  Complain  \\\n",
       "0             0             0             0             0         0   \n",
       "1             0             0             0             0         0   \n",
       "2             0             0             0             0         0   \n",
       "3             0             0             0             0         0   \n",
       "4             0             0             0             0         0   \n",
       "\n",
       "   Z_CostContact  Z_Revenue  Response  \n",
       "0              3         11         1  \n",
       "1              3         11         0  \n",
       "2              3         11         0  \n",
       "3              3         11         0  \n",
       "4              3         11         0  \n",
       "\n",
       "[5 rows x 29 columns]"
      ]
     },
     "execution_count": 233,
     "metadata": {},
     "output_type": "execute_result"
    }
   ],
   "source": [
    "market_comp_df.head()"
   ]
  },
  {
   "cell_type": "code",
   "execution_count": 234,
   "id": "d332e290",
   "metadata": {},
   "outputs": [
    {
     "data": {
      "text/plain": [
       "(2240, 29)"
      ]
     },
     "execution_count": 234,
     "metadata": {},
     "output_type": "execute_result"
    }
   ],
   "source": [
    "market_comp_df.shape"
   ]
  },
  {
   "cell_type": "markdown",
   "id": "81d8c965",
   "metadata": {},
   "source": [
    "# Exploratory Data Analysis"
   ]
  },
  {
   "cell_type": "code",
   "execution_count": 235,
   "id": "57c6e180",
   "metadata": {},
   "outputs": [
    {
     "name": "stdout",
     "output_type": "stream",
     "text": [
      "<class 'pandas.core.frame.DataFrame'>\n",
      "RangeIndex: 2240 entries, 0 to 2239\n",
      "Data columns (total 29 columns):\n",
      " #   Column               Non-Null Count  Dtype  \n",
      "---  ------               --------------  -----  \n",
      " 0   ID                   2240 non-null   int64  \n",
      " 1   Year_Birth           2240 non-null   int64  \n",
      " 2   Education            2240 non-null   object \n",
      " 3   Marital_Status       2240 non-null   object \n",
      " 4   Income               2216 non-null   float64\n",
      " 5   Kidhome              2240 non-null   int64  \n",
      " 6   Teenhome             2240 non-null   int64  \n",
      " 7   Dt_Customer          2240 non-null   object \n",
      " 8   Recency              2240 non-null   int64  \n",
      " 9   MntWines             2240 non-null   int64  \n",
      " 10  MntFruits            2240 non-null   int64  \n",
      " 11  MntMeatProducts      2240 non-null   int64  \n",
      " 12  MntFishProducts      2240 non-null   int64  \n",
      " 13  MntSweetProducts     2240 non-null   int64  \n",
      " 14  MntGoldProds         2240 non-null   int64  \n",
      " 15  NumDealsPurchases    2240 non-null   int64  \n",
      " 16  NumWebPurchases      2240 non-null   int64  \n",
      " 17  NumCatalogPurchases  2240 non-null   int64  \n",
      " 18  NumStorePurchases    2240 non-null   int64  \n",
      " 19  NumWebVisitsMonth    2240 non-null   int64  \n",
      " 20  AcceptedCmp3         2240 non-null   int64  \n",
      " 21  AcceptedCmp4         2240 non-null   int64  \n",
      " 22  AcceptedCmp5         2240 non-null   int64  \n",
      " 23  AcceptedCmp1         2240 non-null   int64  \n",
      " 24  AcceptedCmp2         2240 non-null   int64  \n",
      " 25  Complain             2240 non-null   int64  \n",
      " 26  Z_CostContact        2240 non-null   int64  \n",
      " 27  Z_Revenue            2240 non-null   int64  \n",
      " 28  Response             2240 non-null   int64  \n",
      "dtypes: float64(1), int64(25), object(3)\n",
      "memory usage: 507.6+ KB\n"
     ]
    }
   ],
   "source": [
    "market_comp_df.info()"
   ]
  },
  {
   "cell_type": "code",
   "execution_count": 236,
   "id": "6c2c069b",
   "metadata": {},
   "outputs": [
    {
     "data": {
      "text/plain": [
       "ID                      0\n",
       "Year_Birth              0\n",
       "Education               0\n",
       "Marital_Status          0\n",
       "Income                 24\n",
       "Kidhome                 0\n",
       "Teenhome                0\n",
       "Dt_Customer             0\n",
       "Recency                 0\n",
       "MntWines                0\n",
       "MntFruits               0\n",
       "MntMeatProducts         0\n",
       "MntFishProducts         0\n",
       "MntSweetProducts        0\n",
       "MntGoldProds            0\n",
       "NumDealsPurchases       0\n",
       "NumWebPurchases         0\n",
       "NumCatalogPurchases     0\n",
       "NumStorePurchases       0\n",
       "NumWebVisitsMonth       0\n",
       "AcceptedCmp3            0\n",
       "AcceptedCmp4            0\n",
       "AcceptedCmp5            0\n",
       "AcceptedCmp1            0\n",
       "AcceptedCmp2            0\n",
       "Complain                0\n",
       "Z_CostContact           0\n",
       "Z_Revenue               0\n",
       "Response                0\n",
       "dtype: int64"
      ]
     },
     "execution_count": 236,
     "metadata": {},
     "output_type": "execute_result"
    }
   ],
   "source": [
    "market_comp_df.isnull().sum()"
   ]
  },
  {
   "cell_type": "code",
   "execution_count": 237,
   "id": "ae4c2c07",
   "metadata": {},
   "outputs": [],
   "source": [
    "market_comp_df.rename(columns = {'Z_CostContact':'ZCostContact','Z_Revenue':'ZRevenue','Dt_Customer':'DTCustomer','Year_Birth':'YearBirth','Marital_Status':'MaritalStatus'}, inplace = True)"
   ]
  },
  {
   "cell_type": "code",
   "execution_count": 238,
   "id": "5dd97cc2",
   "metadata": {},
   "outputs": [
    {
     "data": {
      "text/plain": [
       "Index(['ID', 'YearBirth', 'Education', 'MaritalStatus', 'Income', 'Kidhome',\n",
       "       'Teenhome', 'DTCustomer', 'Recency', 'MntWines', 'MntFruits',\n",
       "       'MntMeatProducts', 'MntFishProducts', 'MntSweetProducts',\n",
       "       'MntGoldProds', 'NumDealsPurchases', 'NumWebPurchases',\n",
       "       'NumCatalogPurchases', 'NumStorePurchases', 'NumWebVisitsMonth',\n",
       "       'AcceptedCmp3', 'AcceptedCmp4', 'AcceptedCmp5', 'AcceptedCmp1',\n",
       "       'AcceptedCmp2', 'Complain', 'ZCostContact', 'ZRevenue', 'Response'],\n",
       "      dtype='object')"
      ]
     },
     "execution_count": 238,
     "metadata": {},
     "output_type": "execute_result"
    }
   ],
   "source": [
    "market_comp_df.columns"
   ]
  },
  {
   "cell_type": "code",
   "execution_count": 241,
   "id": "49af0c62",
   "metadata": {},
   "outputs": [],
   "source": [
    "from datetime import date\n",
    "age = []\n",
    "def calAge():\n",
    "    today = date.today()\n",
    "    for yr in market_comp_df['YearBirth']:\n",
    "        age.append(2017 - yr)\n",
    "#         age.append(today.year - yr)\n",
    "    \n",
    "        \n",
    "    market_comp_df['Age'] = age\n",
    " "
   ]
  },
  {
   "cell_type": "code",
   "execution_count": 242,
   "id": "f4551823",
   "metadata": {},
   "outputs": [],
   "source": [
    "calAge()"
   ]
  },
  {
   "cell_type": "code",
   "execution_count": 243,
   "id": "f5a5c663",
   "metadata": {},
   "outputs": [
    {
     "data": {
      "text/html": [
       "<div>\n",
       "<style scoped>\n",
       "    .dataframe tbody tr th:only-of-type {\n",
       "        vertical-align: middle;\n",
       "    }\n",
       "\n",
       "    .dataframe tbody tr th {\n",
       "        vertical-align: top;\n",
       "    }\n",
       "\n",
       "    .dataframe thead th {\n",
       "        text-align: right;\n",
       "    }\n",
       "</style>\n",
       "<table border=\"1\" class=\"dataframe\">\n",
       "  <thead>\n",
       "    <tr style=\"text-align: right;\">\n",
       "      <th></th>\n",
       "      <th>Age</th>\n",
       "      <th>YearBirth</th>\n",
       "    </tr>\n",
       "  </thead>\n",
       "  <tbody>\n",
       "    <tr>\n",
       "      <th>0</th>\n",
       "      <td>60</td>\n",
       "      <td>1957</td>\n",
       "    </tr>\n",
       "    <tr>\n",
       "      <th>1</th>\n",
       "      <td>63</td>\n",
       "      <td>1954</td>\n",
       "    </tr>\n",
       "    <tr>\n",
       "      <th>2</th>\n",
       "      <td>52</td>\n",
       "      <td>1965</td>\n",
       "    </tr>\n",
       "    <tr>\n",
       "      <th>3</th>\n",
       "      <td>33</td>\n",
       "      <td>1984</td>\n",
       "    </tr>\n",
       "    <tr>\n",
       "      <th>4</th>\n",
       "      <td>36</td>\n",
       "      <td>1981</td>\n",
       "    </tr>\n",
       "  </tbody>\n",
       "</table>\n",
       "</div>"
      ],
      "text/plain": [
       "   Age  YearBirth\n",
       "0   60       1957\n",
       "1   63       1954\n",
       "2   52       1965\n",
       "3   33       1984\n",
       "4   36       1981"
      ]
     },
     "execution_count": 243,
     "metadata": {},
     "output_type": "execute_result"
    }
   ],
   "source": [
    "market_comp_df[['Age','YearBirth']].head()"
   ]
  },
  {
   "cell_type": "code",
   "execution_count": 244,
   "id": "433c6658",
   "metadata": {},
   "outputs": [
    {
     "data": {
      "text/plain": [
       "array([[0, 0],\n",
       "       [1, 1],\n",
       "       [0, 0],\n",
       "       ...,\n",
       "       [0, 0],\n",
       "       [0, 1],\n",
       "       [1, 1]], dtype=int64)"
      ]
     },
     "execution_count": 244,
     "metadata": {},
     "output_type": "execute_result"
    }
   ],
   "source": [
    "market_comp_df[['Kidhome','Teenhome']].values"
   ]
  },
  {
   "cell_type": "code",
   "execution_count": 245,
   "id": "106bd745",
   "metadata": {},
   "outputs": [],
   "source": [
    "def createCol():\n",
    "    children = []\n",
    "    for val in market_comp_df[['Kidhome','Teenhome']].values:\n",
    "        children.append(sum(val))\n",
    "    market_comp_df['Children'] = children"
   ]
  },
  {
   "cell_type": "code",
   "execution_count": 246,
   "id": "bf1d0f62",
   "metadata": {},
   "outputs": [],
   "source": [
    "createCol()"
   ]
  },
  {
   "cell_type": "code",
   "execution_count": 247,
   "id": "a28a6411",
   "metadata": {},
   "outputs": [],
   "source": [
    "def createSpendCol():\n",
    "    amtSpent = []\n",
    "    for val in market_comp_df[['MntWines', 'MntFruits','MntMeatProducts', 'MntFishProducts', 'MntSweetProducts','MntGoldProds']].values:\n",
    "        amtSpent.append(sum(val))\n",
    "    market_comp_df['TotalSpending'] = amtSpent"
   ]
  },
  {
   "cell_type": "code",
   "execution_count": 248,
   "id": "68e33587",
   "metadata": {},
   "outputs": [],
   "source": [
    "createSpendCol()"
   ]
  },
  {
   "cell_type": "code",
   "execution_count": 249,
   "id": "dcc3e4aa",
   "metadata": {},
   "outputs": [
    {
     "data": {
      "text/html": [
       "<div>\n",
       "<style scoped>\n",
       "    .dataframe tbody tr th:only-of-type {\n",
       "        vertical-align: middle;\n",
       "    }\n",
       "\n",
       "    .dataframe tbody tr th {\n",
       "        vertical-align: top;\n",
       "    }\n",
       "\n",
       "    .dataframe thead th {\n",
       "        text-align: right;\n",
       "    }\n",
       "</style>\n",
       "<table border=\"1\" class=\"dataframe\">\n",
       "  <thead>\n",
       "    <tr style=\"text-align: right;\">\n",
       "      <th></th>\n",
       "      <th>MntWines</th>\n",
       "      <th>MntFruits</th>\n",
       "      <th>MntMeatProducts</th>\n",
       "      <th>MntFishProducts</th>\n",
       "      <th>MntSweetProducts</th>\n",
       "      <th>MntGoldProds</th>\n",
       "      <th>TotalSpending</th>\n",
       "    </tr>\n",
       "  </thead>\n",
       "  <tbody>\n",
       "    <tr>\n",
       "      <th>0</th>\n",
       "      <td>635</td>\n",
       "      <td>88</td>\n",
       "      <td>546</td>\n",
       "      <td>172</td>\n",
       "      <td>88</td>\n",
       "      <td>88</td>\n",
       "      <td>1617</td>\n",
       "    </tr>\n",
       "    <tr>\n",
       "      <th>1</th>\n",
       "      <td>11</td>\n",
       "      <td>1</td>\n",
       "      <td>6</td>\n",
       "      <td>2</td>\n",
       "      <td>1</td>\n",
       "      <td>6</td>\n",
       "      <td>27</td>\n",
       "    </tr>\n",
       "    <tr>\n",
       "      <th>2</th>\n",
       "      <td>426</td>\n",
       "      <td>49</td>\n",
       "      <td>127</td>\n",
       "      <td>111</td>\n",
       "      <td>21</td>\n",
       "      <td>42</td>\n",
       "      <td>776</td>\n",
       "    </tr>\n",
       "    <tr>\n",
       "      <th>3</th>\n",
       "      <td>11</td>\n",
       "      <td>4</td>\n",
       "      <td>20</td>\n",
       "      <td>10</td>\n",
       "      <td>3</td>\n",
       "      <td>5</td>\n",
       "      <td>53</td>\n",
       "    </tr>\n",
       "    <tr>\n",
       "      <th>4</th>\n",
       "      <td>173</td>\n",
       "      <td>43</td>\n",
       "      <td>118</td>\n",
       "      <td>46</td>\n",
       "      <td>27</td>\n",
       "      <td>15</td>\n",
       "      <td>422</td>\n",
       "    </tr>\n",
       "    <tr>\n",
       "      <th>...</th>\n",
       "      <td>...</td>\n",
       "      <td>...</td>\n",
       "      <td>...</td>\n",
       "      <td>...</td>\n",
       "      <td>...</td>\n",
       "      <td>...</td>\n",
       "      <td>...</td>\n",
       "    </tr>\n",
       "    <tr>\n",
       "      <th>2235</th>\n",
       "      <td>709</td>\n",
       "      <td>43</td>\n",
       "      <td>182</td>\n",
       "      <td>42</td>\n",
       "      <td>118</td>\n",
       "      <td>247</td>\n",
       "      <td>1341</td>\n",
       "    </tr>\n",
       "    <tr>\n",
       "      <th>2236</th>\n",
       "      <td>406</td>\n",
       "      <td>0</td>\n",
       "      <td>30</td>\n",
       "      <td>0</td>\n",
       "      <td>0</td>\n",
       "      <td>8</td>\n",
       "      <td>444</td>\n",
       "    </tr>\n",
       "    <tr>\n",
       "      <th>2237</th>\n",
       "      <td>908</td>\n",
       "      <td>48</td>\n",
       "      <td>217</td>\n",
       "      <td>32</td>\n",
       "      <td>12</td>\n",
       "      <td>24</td>\n",
       "      <td>1241</td>\n",
       "    </tr>\n",
       "    <tr>\n",
       "      <th>2238</th>\n",
       "      <td>428</td>\n",
       "      <td>30</td>\n",
       "      <td>214</td>\n",
       "      <td>80</td>\n",
       "      <td>30</td>\n",
       "      <td>61</td>\n",
       "      <td>843</td>\n",
       "    </tr>\n",
       "    <tr>\n",
       "      <th>2239</th>\n",
       "      <td>84</td>\n",
       "      <td>3</td>\n",
       "      <td>61</td>\n",
       "      <td>2</td>\n",
       "      <td>1</td>\n",
       "      <td>21</td>\n",
       "      <td>172</td>\n",
       "    </tr>\n",
       "  </tbody>\n",
       "</table>\n",
       "<p>2240 rows × 7 columns</p>\n",
       "</div>"
      ],
      "text/plain": [
       "      MntWines  MntFruits  MntMeatProducts  MntFishProducts  MntSweetProducts  \\\n",
       "0          635         88              546              172                88   \n",
       "1           11          1                6                2                 1   \n",
       "2          426         49              127              111                21   \n",
       "3           11          4               20               10                 3   \n",
       "4          173         43              118               46                27   \n",
       "...        ...        ...              ...              ...               ...   \n",
       "2235       709         43              182               42               118   \n",
       "2236       406          0               30                0                 0   \n",
       "2237       908         48              217               32                12   \n",
       "2238       428         30              214               80                30   \n",
       "2239        84          3               61                2                 1   \n",
       "\n",
       "      MntGoldProds  TotalSpending  \n",
       "0               88           1617  \n",
       "1                6             27  \n",
       "2               42            776  \n",
       "3                5             53  \n",
       "4               15            422  \n",
       "...            ...            ...  \n",
       "2235           247           1341  \n",
       "2236             8            444  \n",
       "2237            24           1241  \n",
       "2238            61            843  \n",
       "2239            21            172  \n",
       "\n",
       "[2240 rows x 7 columns]"
      ]
     },
     "execution_count": 249,
     "metadata": {},
     "output_type": "execute_result"
    }
   ],
   "source": [
    "market_comp_df[['MntWines', 'MntFruits','MntMeatProducts', 'MntFishProducts', 'MntSweetProducts','MntGoldProds','TotalSpending']]"
   ]
  },
  {
   "cell_type": "code",
   "execution_count": 250,
   "id": "1eb46d6e",
   "metadata": {},
   "outputs": [
    {
     "data": {
      "text/plain": [
       "array(['Graduation', 'PhD', 'Master', 'Basic', '2n Cycle'], dtype=object)"
      ]
     },
     "execution_count": 250,
     "metadata": {},
     "output_type": "execute_result"
    }
   ],
   "source": [
    "market_comp_df['Education'].unique()"
   ]
  },
  {
   "cell_type": "code",
   "execution_count": 251,
   "id": "36163fa1",
   "metadata": {},
   "outputs": [],
   "source": [
    "from datetime import datetime\n",
    "join_year = []\n",
    "def extractYear():\n",
    "    for yr in market_comp_df['DTCustomer']:\n",
    "        join_year.append(datetime.strptime(yr,'%Y-%m-%d').year)\n",
    "#         print(datetime.strptime(yr,'%Y-%m-%d').year)\n",
    "    market_comp_df['JoiningYear'] = join_year"
   ]
  },
  {
   "cell_type": "code",
   "execution_count": 252,
   "id": "f72580b8",
   "metadata": {},
   "outputs": [],
   "source": [
    "extractYear()"
   ]
  },
  {
   "cell_type": "code",
   "execution_count": 253,
   "id": "e809a96b",
   "metadata": {},
   "outputs": [],
   "source": [
    "degree = []\n",
    "for ed in market_comp_df['Education']:\n",
    "    if ed == 'Basic':\n",
    "        degree.append(1)\n",
    "    elif ed in ['2n Cycle','Master','Graduation']:\n",
    "        degree.append(2)\n",
    "    else:\n",
    "        degree.append(3)\n",
    "market_comp_df['Education'] = degree\n",
    "    "
   ]
  },
  {
   "cell_type": "code",
   "execution_count": 254,
   "id": "e985dbf2",
   "metadata": {},
   "outputs": [],
   "source": [
    "marital = []\n",
    "for rel in market_comp_df['MaritalStatus']:\n",
    "    if rel in ['Single','Divorced','Widow','Alone','YOLO','Absurd']:\n",
    "        marital.append('Single')\n",
    "    else:\n",
    "        marital.append('Spousal relationship')\n",
    "market_comp_df['MaritalStatus'] = marital"
   ]
  },
  {
   "cell_type": "code",
   "execution_count": 255,
   "id": "6b554a8b",
   "metadata": {},
   "outputs": [
    {
     "data": {
      "text/plain": [
       "array(['Single', 'Spousal relationship'], dtype=object)"
      ]
     },
     "execution_count": 255,
     "metadata": {},
     "output_type": "execute_result"
    }
   ],
   "source": [
    "market_comp_df['MaritalStatus'].unique()"
   ]
  },
  {
   "cell_type": "code",
   "execution_count": 256,
   "id": "3f34fec2",
   "metadata": {},
   "outputs": [],
   "source": [
    "from sklearn.impute import KNNImputer\n",
    "imput_income = KNNImputer(n_neighbors=5,metric='nan_euclidean')\n",
    "\n",
    "imput_income.fit(market_comp_df[['Age','Income','Education']])\n",
    "\n",
    "X = imput_income.transform(market_comp_df[['Age','Income','Education']])\n",
    "\n",
    "Income_df=pd.DataFrame(X,columns=[['Age','Income','Education']])\n",
    "\n",
    "market_comp_df['Income']=Income_df['Income'].reset_index(drop=True)"
   ]
  },
  {
   "cell_type": "markdown",
   "id": "af0948f5",
   "metadata": {},
   "source": [
    "# Data Visualization"
   ]
  },
  {
   "cell_type": "code",
   "execution_count": 303,
   "id": "5010ede8",
   "metadata": {},
   "outputs": [
    {
     "name": "stderr",
     "output_type": "stream",
     "text": [
      "C:\\Users\\91956\\Srinivas Shanmuga G\\E-learning\\Python\\anaconda3\\lib\\site-packages\\seaborn\\_decorators.py:36: FutureWarning: Pass the following variable as a keyword arg: x. From version 0.12, the only valid positional argument will be `data`, and passing other arguments without an explicit keyword will result in an error or misinterpretation.\n",
      "  warnings.warn(\n"
     ]
    },
    {
     "data": {
      "text/plain": [
       "<AxesSubplot:xlabel='Response', ylabel='count'>"
      ]
     },
     "execution_count": 303,
     "metadata": {},
     "output_type": "execute_result"
    },
    {
     "data": {
      "image/png": "[encoded data removed]",
      "text/plain": [
       "<Figure size 432x288 with 1 Axes>"
      ]
     },
     "metadata": {
      "needs_background": "light"
     },
     "output_type": "display_data"
    }
   ],
   "source": [
    "sns.countplot(market_comp_df['Response'])"
   ]
  },
  {
   "cell_type": "code",
   "execution_count": 308,
   "id": "8124c771",
   "metadata": {},
   "outputs": [
    {
     "name": "stderr",
     "output_type": "stream",
     "text": [
      "C:\\Users\\91956\\Srinivas Shanmuga G\\E-learning\\Python\\anaconda3\\lib\\site-packages\\seaborn\\_decorators.py:36: FutureWarning: Pass the following variable as a keyword arg: x. From version 0.12, the only valid positional argument will be `data`, and passing other arguments without an explicit keyword will result in an error or misinterpretation.\n",
      "  warnings.warn(\n"
     ]
    },
    {
     "data": {
      "text/plain": [
       "[Text(0, 0, 'No Complain'), Text(1, 0, 'Complain')]"
      ]
     },
     "execution_count": 308,
     "metadata": {},
     "output_type": "execute_result"
    },
    {
     "data": {
      "image/png": "[encoded data removed]",
      "text/plain": [
       "<Figure size 432x288 with 1 Axes>"
      ]
     },
     "metadata": {
      "needs_background": "light"
     },
     "output_type": "display_data"
    }
   ],
   "source": [
    "ax = sns.countplot(market_comp_df['Complain'],hue=market_comp_df['Response'])\n",
    "for container in ax.containers:\n",
    "    ax.bar_label(container)\n",
    "ax.set_xticklabels(['No Complain','Complain'])"
   ]
  },
  {
   "cell_type": "code",
   "execution_count": 357,
   "id": "0bab2c69",
   "metadata": {},
   "outputs": [
    {
     "data": {
      "text/plain": [
       "Text(0.5, 0, 'No of Children')"
      ]
     },
     "execution_count": 357,
     "metadata": {},
     "output_type": "execute_result"
    },
    {
     "data": {
      "image/png": "[encoded data removed]",
      "text/plain": [
       "<Figure size 432x288 with 1 Axes>"
      ]
     },
     "metadata": {
      "needs_background": "light"
     },
     "output_type": "display_data"
    }
   ],
   "source": [
    "market_sort = market_comp_df.groupby(['Children'])['TotalSpending'].mean().reset_index().sort_values('TotalSpending',ascending=False)\n",
    "ax = sns.barplot(x=market_comp_df['Children'],y=market_comp_df['TotalSpending'],ci=False,order=market_sort['Children'])\n",
    "ax.set_xlabel('No of Children')"
   ]
  },
  {
   "cell_type": "code",
   "execution_count": 351,
   "id": "337ca04e",
   "metadata": {},
   "outputs": [
    {
     "data": {
      "text/plain": [
       "<AxesSubplot:xlabel='JoiningYear', ylabel='count'>"
      ]
     },
     "execution_count": 351,
     "metadata": {},
     "output_type": "execute_result"
    },
    {
     "data": {
      "image/png": "[encoded data removed]",
      "text/plain": [
       "<Figure size 432x288 with 1 Axes>"
      ]
     },
     "metadata": {
      "needs_background": "light"
     },
     "output_type": "display_data"
    }
   ],
   "source": [
    "cols = ['grey' if (x < max(market_comp_df['JoiningYear'].value_counts())) else 'red' for x in market_comp_df['JoiningYear'].value_counts()]\n",
    "sns.countplot(x='JoiningYear',palette=cols,order=market_comp_df['JoiningYear'].value_counts().index,data=market_comp_df)"
   ]
  },
  {
   "cell_type": "code",
   "execution_count": 360,
   "id": "d8f98173",
   "metadata": {},
   "outputs": [
    {
     "data": {
      "text/plain": [
       "[Text(0, 0, 'No Complain'), Text(1, 0, 'Complain')]"
      ]
     },
     "execution_count": 360,
     "metadata": {},
     "output_type": "execute_result"
    },
    {
     "data": {
      "image/png": "[encoded data removed]",
      "text/plain": [
       "<Figure size 432x288 with 1 Axes>"
      ]
     },
     "metadata": {
      "needs_background": "light"
     },
     "output_type": "display_data"
    }
   ],
   "source": [
    "market_sort = market_comp_df.groupby(['Complain'])['Recency'].count().reset_index().sort_values('Recency',ascending=False)\n",
    "ax = sns.barplot(x=market_comp_df['Complain'],y=market_comp_df['Recency'],ci=False,order=market_sort['Complain'])\n",
    "ax.set_xticklabels(['No Complain','Complain'])"
   ]
  },
  {
   "cell_type": "code",
   "execution_count": 253,
   "id": "f1748314",
   "metadata": {},
   "outputs": [
    {
     "data": {
      "text/plain": [
       "<AxesSubplot:xlabel='MaritalStatus', ylabel='TotalSpending'>"
      ]
     },
     "execution_count": 253,
     "metadata": {},
     "output_type": "execute_result"
    },
    {
     "data": {
      "image/png": "[encoded data removed]",
      "text/plain": [
       "<Figure size 432x288 with 1 Axes>"
      ]
     },
     "metadata": {
      "needs_background": "light"
     },
     "output_type": "display_data"
    }
   ],
   "source": [
    "market_sort = market_comp_df.groupby(['MaritalStatus'])['TotalSpending'].mean().reset_index().sort_values('TotalSpending',ascending=False)\n",
    "\n",
    "sns.barplot(x=market_comp_df['MaritalStatus'],y=market_comp_df['TotalSpending'],ci=False,order=market_sort['MaritalStatus'])"
   ]
  },
  {
   "cell_type": "code",
   "execution_count": 255,
   "id": "31faa73e",
   "metadata": {},
   "outputs": [
    {
     "name": "stderr",
     "output_type": "stream",
     "text": [
      "C:\\Users\\91956\\Srinivas Shanmuga G\\E-learning\\Python\\anaconda3\\lib\\site-packages\\seaborn\\_decorators.py:36: FutureWarning: Pass the following variable as a keyword arg: x. From version 0.12, the only valid positional argument will be `data`, and passing other arguments without an explicit keyword will result in an error or misinterpretation.\n",
      "  warnings.warn(\n"
     ]
    },
    {
     "data": {
      "text/plain": [
       "<AxesSubplot:xlabel='MaritalStatus', ylabel='count'>"
      ]
     },
     "execution_count": 255,
     "metadata": {},
     "output_type": "execute_result"
    },
    {
     "data": {
      "image/png": "[encoded data removed]",
      "text/plain": [
       "<Figure size 432x288 with 1 Axes>"
      ]
     },
     "metadata": {
      "needs_background": "light"
     },
     "output_type": "display_data"
    }
   ],
   "source": [
    "\n",
    "sns.countplot(market_comp_df['MaritalStatus'],order=market_comp_df['MaritalStatus'].value_counts().index)"
   ]
  },
  {
   "cell_type": "code",
   "execution_count": 220,
   "id": "27304648",
   "metadata": {},
   "outputs": [
    {
     "data": {
      "image/png": "[encoded data removed]",
      "text/plain": [
       "<Figure size 1440x540 with 5 Axes>"
      ]
     },
     "metadata": {
      "needs_background": "light"
     },
     "output_type": "display_data"
    }
   ],
   "source": [
    "figure_cat = plt.figure(figsize=(20,7.5))\n",
    "for ind,col in enumerate(['NumCatalogPurchases','NumDealsPurchases','NumWebPurchases','NumStorePurchases','NumWebVisitsMonth']):\n",
    "    cols = ['grey' if (x < max(market_comp_df[col].value_counts())) else 'orange' for x in market_comp_df[col].value_counts()]\n",
    "    ax = figure_cat.add_subplot(2,3,ind+1)\n",
    "    sns.countplot(x=col,palette=cols,order=market_comp_df[col].value_counts().index,data=market_comp_df)"
   ]
  },
  {
   "cell_type": "code",
   "execution_count": 246,
   "id": "e21e966d",
   "metadata": {},
   "outputs": [
    {
     "data": {
      "image/png": "[encoded data removed]",
      "text/plain": [
       "<Figure size 1440x540 with 5 Axes>"
      ]
     },
     "metadata": {
      "needs_background": "light"
     },
     "output_type": "display_data"
    }
   ],
   "source": [
    "figure_cat = plt.figure(figsize=(20,7.5))\n",
    "for ind,col in enumerate(['AcceptedCmp1','AcceptedCmp2','AcceptedCmp3','AcceptedCmp4','AcceptedCmp5']):\n",
    "    cols = ['grey' if (x < max(market_comp_df[col].value_counts())) else 'orange' for x in market_comp_df[col].value_counts()]\n",
    "    ax = figure_cat.add_subplot(2,3,ind+1)\n",
    "    sns.countplot(x=col,hue=market_comp_df['Education'],order=market_comp_df[col].value_counts().index,data=market_comp_df)\n",
    "    for container in ax.containers:\n",
    "        ax.bar_label(container)\n",
    "        plt.legend(loc='upper right')"
   ]
  },
  {
   "cell_type": "code",
   "execution_count": 245,
   "id": "4a33082f",
   "metadata": {},
   "outputs": [
    {
     "data": {
      "image/png": "[encoded data removed]",
      "text/plain": [
       "<Figure size 1440x540 with 5 Axes>"
      ]
     },
     "metadata": {
      "needs_background": "light"
     },
     "output_type": "display_data"
    }
   ],
   "source": [
    "figure_cat = plt.figure(figsize=(20,7.5))\n",
    "for ind,col in enumerate(['AcceptedCmp1','AcceptedCmp2','AcceptedCmp3','AcceptedCmp4','AcceptedCmp5']):\n",
    "    cols = ['grey' if (x < max(market_comp_df[col].value_counts())) else 'orange' for x in market_comp_df[col].value_counts()]\n",
    "    ax = figure_cat.add_subplot(2,3,ind+1)\n",
    "    sns.countplot(x=col,hue=market_comp_df['MaritalStatus'],order=market_comp_df[col].value_counts().index,data=market_comp_df)\n",
    "    for container in ax.containers:\n",
    "        ax.bar_label(container)\n",
    "        plt.legend(loc='upper right')"
   ]
  },
  {
   "cell_type": "code",
   "execution_count": 259,
   "id": "cedbe33d",
   "metadata": {},
   "outputs": [
    {
     "data": {
      "text/plain": [
       "<AxesSubplot:xlabel='Income'>"
      ]
     },
     "execution_count": 259,
     "metadata": {},
     "output_type": "execute_result"
    },
    {
     "data": {
      "image/png": "[encoded data removed]",
      "text/plain": [
       "<Figure size 432x288 with 1 Axes>"
      ]
     },
     "metadata": {
      "needs_background": "light"
     },
     "output_type": "display_data"
    }
   ],
   "source": [
    "sns.boxplot(x=market_comp_df['Income'],color='Grey')"
   ]
  },
  {
   "cell_type": "code",
   "execution_count": 261,
   "id": "42eb7699",
   "metadata": {},
   "outputs": [
    {
     "data": {
      "text/plain": [
       "<AxesSubplot:xlabel='YearBirth'>"
      ]
     },
     "execution_count": 261,
     "metadata": {},
     "output_type": "execute_result"
    },
    {
     "data": {
      "image/png": "[encoded data removed]",
      "text/plain": [
       "<Figure size 432x288 with 1 Axes>"
      ]
     },
     "metadata": {
      "needs_background": "light"
     },
     "output_type": "display_data"
    }
   ],
   "source": [
    "sns.boxplot(x=market_comp_df['YearBirth'],color='Blue')"
   ]
  },
  {
   "cell_type": "code",
   "execution_count": 262,
   "id": "9c74673e",
   "metadata": {},
   "outputs": [
    {
     "data": {
      "text/plain": [
       "<AxesSubplot:xlabel='TotalSpending'>"
      ]
     },
     "execution_count": 262,
     "metadata": {},
     "output_type": "execute_result"
    },
    {
     "data": {
      "image/png": "[encoded data removed]",
      "text/plain": [
       "<Figure size 432x288 with 1 Axes>"
      ]
     },
     "metadata": {
      "needs_background": "light"
     },
     "output_type": "display_data"
    }
   ],
   "source": [
    "sns.boxplot(x=market_comp_df['TotalSpending'],color='Brown')"
   ]
  },
  {
   "cell_type": "markdown",
   "id": "5126134b",
   "metadata": {},
   "source": [
    "# Handling Outliers"
   ]
  },
  {
   "cell_type": "code",
   "execution_count": 258,
   "id": "9425ab8d",
   "metadata": {},
   "outputs": [],
   "source": [
    "from operator import add\n",
    "def find_anomalies(data):\n",
    "    anomalies = []\n",
    "    \n",
    "    for col in data:\n",
    "        Q1 = np.percentile(data[col], 25,\n",
    "                interpolation = 'midpoint')\n",
    " \n",
    "        Q3 = np.percentile(data[col], 75,\n",
    "                        interpolation = 'midpoint')\n",
    "        IQR = Q3 - Q1\n",
    "        \n",
    "        print('Col:',col)\n",
    "        \n",
    "#         print('Q1:',Q1,'Q3:',Q3,'IQR:',IQR)\n",
    "\n",
    "        upper = np.where(data[col] >= (Q3+1.5*IQR))\n",
    "\n",
    "        lower = np.where(data[col] <= (Q1-1.5*IQR))\n",
    "\n",
    "#         print(lower[0])\n",
    "#         print(upper[0])\n",
    "        \n",
    "        try:\n",
    "            if len(lower[0]) != 0 and len(lower[0]) > 0:\n",
    "                for low_val in lower[0]:\n",
    "                    anomalies.append(low_val)\n",
    "            if len(upper[0]) != 0 and len(upper[0]) > 0:\n",
    "                for up_val in upper[0]:\n",
    "                    anomalies.append(up_val)\n",
    "#             print(anomalies_lower)\n",
    "#             print(anomalies_upper)\n",
    "        except:\n",
    "            pass\n",
    "#     print(list(set(anomalies)))\n",
    "    \n",
    "    return list(set(anomalies))\n",
    "    "
   ]
  },
  {
   "cell_type": "code",
   "execution_count": 259,
   "id": "ecc0c5e8",
   "metadata": {},
   "outputs": [
    {
     "name": "stdout",
     "output_type": "stream",
     "text": [
      "Col: YearBirth\n",
      "Col: Age\n",
      "Col: Income\n",
      "Col: TotalSpending\n",
      "Col: Recency\n"
     ]
    }
   ],
   "source": [
    "outl_list = find_anomalies(market_comp_df[['YearBirth','Age','Income','TotalSpending','Recency']])"
   ]
  },
  {
   "cell_type": "code",
   "execution_count": 27,
   "id": "6e84026a",
   "metadata": {},
   "outputs": [],
   "source": [
    "market_comp_df.drop(outl_list,inplace=True)"
   ]
  },
  {
   "cell_type": "code",
   "execution_count": 28,
   "id": "0714e29e",
   "metadata": {},
   "outputs": [
    {
     "data": {
      "text/plain": [
       "(2226, 33)"
      ]
     },
     "execution_count": 28,
     "metadata": {},
     "output_type": "execute_result"
    }
   ],
   "source": [
    "market_comp_df.shape"
   ]
  },
  {
   "cell_type": "code",
   "execution_count": 260,
   "id": "130d4b1c",
   "metadata": {},
   "outputs": [],
   "source": [
    "market_comp_df.drop(['ID','ZCostContact','ZRevenue','Kidhome','Teenhome','DTCustomer'],axis=1,inplace=True)"
   ]
  },
  {
   "cell_type": "markdown",
   "id": "540d90f6",
   "metadata": {},
   "source": [
    "# One Hot Encoding"
   ]
  },
  {
   "cell_type": "code",
   "execution_count": 261,
   "id": "45b3d0a8",
   "metadata": {},
   "outputs": [],
   "source": [
    "one_hot = pd.get_dummies(market_comp_df.select_dtypes(include='object'), drop_first = True)\n",
    "market_comp_df_new = pd.concat([market_comp_df, one_hot], axis = 1)\n",
    "market_comp_df_new.drop(market_comp_df.select_dtypes(include='object'), axis = 1, inplace = True)"
   ]
  },
  {
   "cell_type": "code",
   "execution_count": 262,
   "id": "7b2eae40",
   "metadata": {},
   "outputs": [],
   "source": [
    "market_comp_df_new['MaritalStatus_Spousal relationship'] = market_comp_df_new['MaritalStatus_Spousal relationship'].astype('int64')"
   ]
  },
  {
   "cell_type": "code",
   "execution_count": 263,
   "id": "72f3f33e",
   "metadata": {},
   "outputs": [
    {
     "data": {
      "text/plain": [
       "YearBirth                               int64\n",
       "Education                               int64\n",
       "Income                                float64\n",
       "Recency                                 int64\n",
       "MntWines                                int64\n",
       "MntFruits                               int64\n",
       "MntMeatProducts                         int64\n",
       "MntFishProducts                         int64\n",
       "MntSweetProducts                        int64\n",
       "MntGoldProds                            int64\n",
       "NumDealsPurchases                       int64\n",
       "NumWebPurchases                         int64\n",
       "NumCatalogPurchases                     int64\n",
       "NumStorePurchases                       int64\n",
       "NumWebVisitsMonth                       int64\n",
       "AcceptedCmp3                            int64\n",
       "AcceptedCmp4                            int64\n",
       "AcceptedCmp5                            int64\n",
       "AcceptedCmp1                            int64\n",
       "AcceptedCmp2                            int64\n",
       "Complain                                int64\n",
       "Response                                int64\n",
       "Age                                     int64\n",
       "Children                                int64\n",
       "TotalSpending                           int64\n",
       "JoiningYear                             int64\n",
       "MaritalStatus_Spousal relationship      int64\n",
       "dtype: object"
      ]
     },
     "execution_count": 263,
     "metadata": {},
     "output_type": "execute_result"
    }
   ],
   "source": [
    "market_comp_df_new.dtypes"
   ]
  },
  {
   "cell_type": "code",
   "execution_count": 264,
   "id": "d2873a9e",
   "metadata": {},
   "outputs": [],
   "source": [
    "from sklearn.model_selection import train_test_split"
   ]
  },
  {
   "cell_type": "markdown",
   "id": "23b1a001",
   "metadata": {},
   "source": [
    "# Scaling and Standardization"
   ]
  },
  {
   "cell_type": "code",
   "execution_count": 265,
   "id": "ab409f18",
   "metadata": {},
   "outputs": [],
   "source": [
    "from sklearn.preprocessing import StandardScaler\n",
    "scaler = StandardScaler()"
   ]
  },
  {
   "cell_type": "code",
   "execution_count": 266,
   "id": "8cb013d9",
   "metadata": {},
   "outputs": [],
   "source": [
    "scaler.fit(market_comp_df_new.drop(['Response','YearBirth','TotalSpending'],axis=1))\n",
    "scaled_features = scaler.transform(market_comp_df_new.drop(['Response','YearBirth','TotalSpending'],axis=1))"
   ]
  },
  {
   "cell_type": "code",
   "execution_count": 267,
   "id": "c8414e46",
   "metadata": {},
   "outputs": [
    {
     "data": {
      "text/html": [
       "<div>\n",
       "<style scoped>\n",
       "    .dataframe tbody tr th:only-of-type {\n",
       "        vertical-align: middle;\n",
       "    }\n",
       "\n",
       "    .dataframe tbody tr th {\n",
       "        vertical-align: top;\n",
       "    }\n",
       "\n",
       "    .dataframe thead th {\n",
       "        text-align: right;\n",
       "    }\n",
       "</style>\n",
       "<table border=\"1\" class=\"dataframe\">\n",
       "  <thead>\n",
       "    <tr style=\"text-align: right;\">\n",
       "      <th></th>\n",
       "      <th>Education</th>\n",
       "      <th>Income</th>\n",
       "      <th>Recency</th>\n",
       "      <th>MntWines</th>\n",
       "      <th>MntFruits</th>\n",
       "      <th>MntMeatProducts</th>\n",
       "      <th>MntFishProducts</th>\n",
       "      <th>MntSweetProducts</th>\n",
       "      <th>MntGoldProds</th>\n",
       "      <th>NumDealsPurchases</th>\n",
       "      <th>...</th>\n",
       "      <th>AcceptedCmp3</th>\n",
       "      <th>AcceptedCmp4</th>\n",
       "      <th>AcceptedCmp5</th>\n",
       "      <th>AcceptedCmp1</th>\n",
       "      <th>AcceptedCmp2</th>\n",
       "      <th>Complain</th>\n",
       "      <th>Age</th>\n",
       "      <th>Children</th>\n",
       "      <th>JoiningYear</th>\n",
       "      <th>MaritalStatus_Spousal relationship</th>\n",
       "    </tr>\n",
       "  </thead>\n",
       "  <tbody>\n",
       "    <tr>\n",
       "      <th>0</th>\n",
       "      <td>-0.427121</td>\n",
       "      <td>0.235850</td>\n",
       "      <td>0.307039</td>\n",
       "      <td>0.983781</td>\n",
       "      <td>1.551577</td>\n",
       "      <td>1.679702</td>\n",
       "      <td>2.462147</td>\n",
       "      <td>1.476500</td>\n",
       "      <td>0.843207</td>\n",
       "      <td>0.349414</td>\n",
       "      <td>...</td>\n",
       "      <td>-0.28014</td>\n",
       "      <td>-0.28383</td>\n",
       "      <td>-0.28014</td>\n",
       "      <td>-0.262111</td>\n",
       "      <td>-0.11651</td>\n",
       "      <td>-0.097282</td>\n",
       "      <td>0.985345</td>\n",
       "      <td>-1.264505</td>\n",
       "      <td>-1.502225</td>\n",
       "      <td>-1.346874</td>\n",
       "    </tr>\n",
       "    <tr>\n",
       "      <th>1</th>\n",
       "      <td>-0.427121</td>\n",
       "      <td>-0.234698</td>\n",
       "      <td>-0.383664</td>\n",
       "      <td>-0.870479</td>\n",
       "      <td>-0.636301</td>\n",
       "      <td>-0.713225</td>\n",
       "      <td>-0.650449</td>\n",
       "      <td>-0.631503</td>\n",
       "      <td>-0.729006</td>\n",
       "      <td>-0.168236</td>\n",
       "      <td>...</td>\n",
       "      <td>-0.28014</td>\n",
       "      <td>-0.28383</td>\n",
       "      <td>-0.28014</td>\n",
       "      <td>-0.262111</td>\n",
       "      <td>-0.11651</td>\n",
       "      <td>-0.097282</td>\n",
       "      <td>1.235733</td>\n",
       "      <td>1.396361</td>\n",
       "      <td>1.420036</td>\n",
       "      <td>-1.346874</td>\n",
       "    </tr>\n",
       "    <tr>\n",
       "      <th>2</th>\n",
       "      <td>-0.427121</td>\n",
       "      <td>0.773466</td>\n",
       "      <td>-0.798086</td>\n",
       "      <td>0.362723</td>\n",
       "      <td>0.570804</td>\n",
       "      <td>-0.177032</td>\n",
       "      <td>1.345274</td>\n",
       "      <td>-0.146905</td>\n",
       "      <td>-0.038766</td>\n",
       "      <td>-0.685887</td>\n",
       "      <td>...</td>\n",
       "      <td>-0.28014</td>\n",
       "      <td>-0.28383</td>\n",
       "      <td>-0.28014</td>\n",
       "      <td>-0.262111</td>\n",
       "      <td>-0.11651</td>\n",
       "      <td>-0.097282</td>\n",
       "      <td>0.317643</td>\n",
       "      <td>-1.264505</td>\n",
       "      <td>-0.041094</td>\n",
       "      <td>0.742460</td>\n",
       "    </tr>\n",
       "    <tr>\n",
       "      <th>3</th>\n",
       "      <td>-0.427121</td>\n",
       "      <td>-1.020595</td>\n",
       "      <td>-0.798086</td>\n",
       "      <td>-0.870479</td>\n",
       "      <td>-0.560857</td>\n",
       "      <td>-0.651187</td>\n",
       "      <td>-0.503974</td>\n",
       "      <td>-0.583043</td>\n",
       "      <td>-0.748179</td>\n",
       "      <td>-0.168236</td>\n",
       "      <td>...</td>\n",
       "      <td>-0.28014</td>\n",
       "      <td>-0.28383</td>\n",
       "      <td>-0.28014</td>\n",
       "      <td>-0.262111</td>\n",
       "      <td>-0.11651</td>\n",
       "      <td>-0.097282</td>\n",
       "      <td>-1.268149</td>\n",
       "      <td>0.065928</td>\n",
       "      <td>1.420036</td>\n",
       "      <td>0.742460</td>\n",
       "    </tr>\n",
       "    <tr>\n",
       "      <th>4</th>\n",
       "      <td>1.787581</td>\n",
       "      <td>0.242035</td>\n",
       "      <td>1.550305</td>\n",
       "      <td>-0.389085</td>\n",
       "      <td>0.419916</td>\n",
       "      <td>-0.216914</td>\n",
       "      <td>0.155164</td>\n",
       "      <td>-0.001525</td>\n",
       "      <td>-0.556446</td>\n",
       "      <td>1.384715</td>\n",
       "      <td>...</td>\n",
       "      <td>-0.28014</td>\n",
       "      <td>-0.28383</td>\n",
       "      <td>-0.28014</td>\n",
       "      <td>-0.262111</td>\n",
       "      <td>-0.11651</td>\n",
       "      <td>-0.097282</td>\n",
       "      <td>-1.017761</td>\n",
       "      <td>0.065928</td>\n",
       "      <td>1.420036</td>\n",
       "      <td>0.742460</td>\n",
       "    </tr>\n",
       "  </tbody>\n",
       "</table>\n",
       "<p>5 rows × 24 columns</p>\n",
       "</div>"
      ],
      "text/plain": [
       "   Education    Income   Recency  MntWines  MntFruits  MntMeatProducts  \\\n",
       "0  -0.427121  0.235850  0.307039  0.983781   1.551577         1.679702   \n",
       "1  -0.427121 -0.234698 -0.383664 -0.870479  -0.636301        -0.713225   \n",
       "2  -0.427121  0.773466 -0.798086  0.362723   0.570804        -0.177032   \n",
       "3  -0.427121 -1.020595 -0.798086 -0.870479  -0.560857        -0.651187   \n",
       "4   1.787581  0.242035  1.550305 -0.389085   0.419916        -0.216914   \n",
       "\n",
       "   MntFishProducts  MntSweetProducts  MntGoldProds  NumDealsPurchases  ...  \\\n",
       "0         2.462147          1.476500      0.843207           0.349414  ...   \n",
       "1        -0.650449         -0.631503     -0.729006          -0.168236  ...   \n",
       "2         1.345274         -0.146905     -0.038766          -0.685887  ...   \n",
       "3        -0.503974         -0.583043     -0.748179          -0.168236  ...   \n",
       "4         0.155164         -0.001525     -0.556446           1.384715  ...   \n",
       "\n",
       "   AcceptedCmp3  AcceptedCmp4  AcceptedCmp5  AcceptedCmp1  AcceptedCmp2  \\\n",
       "0      -0.28014      -0.28383      -0.28014     -0.262111      -0.11651   \n",
       "1      -0.28014      -0.28383      -0.28014     -0.262111      -0.11651   \n",
       "2      -0.28014      -0.28383      -0.28014     -0.262111      -0.11651   \n",
       "3      -0.28014      -0.28383      -0.28014     -0.262111      -0.11651   \n",
       "4      -0.28014      -0.28383      -0.28014     -0.262111      -0.11651   \n",
       "\n",
       "   Complain       Age  Children  JoiningYear  \\\n",
       "0 -0.097282  0.985345 -1.264505    -1.502225   \n",
       "1 -0.097282  1.235733  1.396361     1.420036   \n",
       "2 -0.097282  0.317643 -1.264505    -0.041094   \n",
       "3 -0.097282 -1.268149  0.065928     1.420036   \n",
       "4 -0.097282 -1.017761  0.065928     1.420036   \n",
       "\n",
       "   MaritalStatus_Spousal relationship  \n",
       "0                           -1.346874  \n",
       "1                           -1.346874  \n",
       "2                            0.742460  \n",
       "3                            0.742460  \n",
       "4                            0.742460  \n",
       "\n",
       "[5 rows x 24 columns]"
      ]
     },
     "execution_count": 267,
     "metadata": {},
     "output_type": "execute_result"
    }
   ],
   "source": [
    "market_comp_scaled = pd.DataFrame(scaled_features,columns=market_comp_df_new.columns[~market_comp_df_new.columns.isin(['Response','YearBirth','TotalSpending'])])\n",
    "market_comp_scaled.head()"
   ]
  },
  {
   "cell_type": "code",
   "execution_count": 268,
   "id": "25604f47",
   "metadata": {},
   "outputs": [],
   "source": [
    "X = market_comp_scaled\n",
    "y = market_comp_df_new['Response']"
   ]
  },
  {
   "cell_type": "code",
   "execution_count": 269,
   "id": "663b2ae1",
   "metadata": {},
   "outputs": [],
   "source": [
    "X_train, X_test, y_train, y_test = train_test_split(X, y, test_size=0.3, random_state=369)"
   ]
  },
  {
   "cell_type": "code",
   "execution_count": 270,
   "id": "5a94c8c6",
   "metadata": {},
   "outputs": [
    {
     "name": "stdout",
     "output_type": "stream",
     "text": [
      "(1568, 24) (1568,) (672, 24) (672,)\n"
     ]
    }
   ],
   "source": [
    "print(X_train.shape,y_train.shape,X_test.shape,y_test.shape)"
   ]
  },
  {
   "cell_type": "markdown",
   "id": "84fea620",
   "metadata": {},
   "source": [
    "# SMOTEENN - Resampling"
   ]
  },
  {
   "cell_type": "code",
   "execution_count": 271,
   "id": "571122b4",
   "metadata": {},
   "outputs": [],
   "source": [
    "from collections import Counter\n",
    "from imblearn.combine import SMOTEENN"
   ]
  },
  {
   "cell_type": "code",
   "execution_count": 272,
   "id": "8b8a8e3e",
   "metadata": {},
   "outputs": [
    {
     "name": "stdout",
     "output_type": "stream",
     "text": [
      "Resampled Counter({1: 1267, 0: 955})\n"
     ]
    }
   ],
   "source": [
    "res_smt = SMOTEENN(random_state=369)\n",
    "X_train_res, y_train_res = res_smt.fit_resample(X_train, y_train)\n",
    "print('Resampled %s' % Counter(y_train_res))"
   ]
  },
  {
   "cell_type": "markdown",
   "id": "5c9cb88a",
   "metadata": {},
   "source": [
    "# Logistic Regression"
   ]
  },
  {
   "cell_type": "code",
   "execution_count": 274,
   "id": "096c8bd0",
   "metadata": {},
   "outputs": [],
   "source": [
    "from mlxtend.feature_selection import SequentialFeatureSelector as SFS\n",
    "from sklearn.linear_model import LogisticRegression"
   ]
  },
  {
   "cell_type": "code",
   "execution_count": 282,
   "id": "8e4ca990",
   "metadata": {},
   "outputs": [],
   "source": [
    "sfs_md = SFS(LogisticRegression(random_state=369,solver='liblinear',max_iter=1000,penalty='l1'),\n",
    "          k_features=(10,20),\n",
    "          forward=True,\n",
    "          floating=True,\n",
    "          scoring = 'accuracy',\n",
    "          cv = 5)"
   ]
  },
  {
   "cell_type": "code",
   "execution_count": 283,
   "id": "575adad7",
   "metadata": {
    "scrolled": false
   },
   "outputs": [
    {
     "data": {
      "text/html": [
       "<style>#sk-container-id-24 {color: black;background-color: white;}#sk-container-id-24 pre{padding: 0;}#sk-container-id-24 div.sk-toggleable {background-color: white;}#sk-container-id-24 label.sk-toggleable__label {cursor: pointer;display: block;width: 100%;margin-bottom: 0;padding: 0.3em;box-sizing: border-box;text-align: center;}#sk-container-id-24 label.sk-toggleable__label-arrow:before {content: \"▸\";float: left;margin-right: 0.25em;color: #696969;}#sk-container-id-24 label.sk-toggleable__label-arrow:hover:before {color: black;}#sk-container-id-24 div.sk-estimator:hover label.sk-toggleable__label-arrow:before {color: black;}#sk-container-id-24 div.sk-toggleable__content {max-height: 0;max-width: 0;overflow: hidden;text-align: left;background-color: #f0f8ff;}#sk-container-id-24 div.sk-toggleable__content pre {margin: 0.2em;color: black;border-radius: 0.25em;background-color: #f0f8ff;}#sk-container-id-24 input.sk-toggleable__control:checked~div.sk-toggleable__content {max-height: 200px;max-width: 100%;overflow: auto;}#sk-container-id-24 input.sk-toggleable__control:checked~label.sk-toggleable__label-arrow:before {content: \"▾\";}#sk-container-id-24 div.sk-estimator input.sk-toggleable__control:checked~label.sk-toggleable__label {background-color: #d4ebff;}#sk-container-id-24 div.sk-label input.sk-toggleable__control:checked~label.sk-toggleable__label {background-color: #d4ebff;}#sk-container-id-24 input.sk-hidden--visually {border: 0;clip: rect(1px 1px 1px 1px);clip: rect(1px, 1px, 1px, 1px);height: 1px;margin: -1px;overflow: hidden;padding: 0;position: absolute;width: 1px;}#sk-container-id-24 div.sk-estimator {font-family: monospace;background-color: #f0f8ff;border: 1px dotted black;border-radius: 0.25em;box-sizing: border-box;margin-bottom: 0.5em;}#sk-container-id-24 div.sk-estimator:hover {background-color: #d4ebff;}#sk-container-id-24 div.sk-parallel-item::after {content: \"\";width: 100%;border-bottom: 1px solid gray;flex-grow: 1;}#sk-container-id-24 div.sk-label:hover label.sk-toggleable__label {background-color: #d4ebff;}#sk-container-id-24 div.sk-serial::before {content: \"\";position: absolute;border-left: 1px solid gray;box-sizing: border-box;top: 0;bottom: 0;left: 50%;z-index: 0;}#sk-container-id-24 div.sk-serial {display: flex;flex-direction: column;align-items: center;background-color: white;padding-right: 0.2em;padding-left: 0.2em;position: relative;}#sk-container-id-24 div.sk-item {position: relative;z-index: 1;}#sk-container-id-24 div.sk-parallel {display: flex;align-items: stretch;justify-content: center;background-color: white;position: relative;}#sk-container-id-24 div.sk-item::before, #sk-container-id-24 div.sk-parallel-item::before {content: \"\";position: absolute;border-left: 1px solid gray;box-sizing: border-box;top: 0;bottom: 0;left: 50%;z-index: -1;}#sk-container-id-24 div.sk-parallel-item {display: flex;flex-direction: column;z-index: 1;position: relative;background-color: white;}#sk-container-id-24 div.sk-parallel-item:first-child::after {align-self: flex-end;width: 50%;}#sk-container-id-24 div.sk-parallel-item:last-child::after {align-self: flex-start;width: 50%;}#sk-container-id-24 div.sk-parallel-item:only-child::after {width: 0;}#sk-container-id-24 div.sk-dashed-wrapped {border: 1px dashed gray;margin: 0 0.4em 0.5em 0.4em;box-sizing: border-box;padding-bottom: 0.4em;background-color: white;}#sk-container-id-24 div.sk-label label {font-family: monospace;font-weight: bold;display: inline-block;line-height: 1.2em;}#sk-container-id-24 div.sk-label-container {text-align: center;}#sk-container-id-24 div.sk-container {/* jupyter's `normalize.less` sets `[hidden] { display: none; }` but bootstrap.min.css set `[hidden] { display: none !important; }` so we also need the `!important` here to be able to override the default hidden behavior on the sphinx rendered scikit-learn.org. See: https://github.com/scikit-learn/scikit-learn/issues/21755 */display: inline-block !important;position: relative;}#sk-container-id-24 div.sk-text-repr-fallback {display: none;}</style><div id=\"sk-container-id-24\" class=\"sk-top-container\"><div class=\"sk-text-repr-fallback\"><pre>SequentialFeatureSelector(estimator=LogisticRegression(max_iter=1000,\n",
       "                                                       penalty=&#x27;l1&#x27;,\n",
       "                                                       random_state=369,\n",
       "                                                       solver=&#x27;liblinear&#x27;),\n",
       "                          floating=True, k_features=(10, 20),\n",
       "                          scoring=&#x27;accuracy&#x27;)</pre><b>In a Jupyter environment, please rerun this cell to show the HTML representation or trust the notebook. <br />On GitHub, the HTML representation is unable to render, please try loading this page with nbviewer.org.</b></div><div class=\"sk-container\" hidden><div class=\"sk-item sk-dashed-wrapped\"><div class=\"sk-label-container\"><div class=\"sk-label sk-toggleable\"><input class=\"sk-toggleable__control sk-hidden--visually\" id=\"sk-estimator-id-48\" type=\"checkbox\" ><label for=\"sk-estimator-id-48\" class=\"sk-toggleable__label sk-toggleable__label-arrow\">SequentialFeatureSelector</label><div class=\"sk-toggleable__content\"><pre>SequentialFeatureSelector(estimator=LogisticRegression(max_iter=1000,\n",
       "                                                       penalty=&#x27;l1&#x27;,\n",
       "                                                       random_state=369,\n",
       "                                                       solver=&#x27;liblinear&#x27;),\n",
       "                          floating=True, k_features=(10, 20),\n",
       "                          scoring=&#x27;accuracy&#x27;)</pre></div></div></div><div class=\"sk-parallel\"><div class=\"sk-parallel-item\"><div class=\"sk-item\"><div class=\"sk-label-container\"><div class=\"sk-label sk-toggleable\"><input class=\"sk-toggleable__control sk-hidden--visually\" id=\"sk-estimator-id-49\" type=\"checkbox\" ><label for=\"sk-estimator-id-49\" class=\"sk-toggleable__label sk-toggleable__label-arrow\">estimator: LogisticRegression</label><div class=\"sk-toggleable__content\"><pre>LogisticRegression(max_iter=1000, penalty=&#x27;l1&#x27;, random_state=369,\n",
       "                   solver=&#x27;liblinear&#x27;)</pre></div></div></div><div class=\"sk-serial\"><div class=\"sk-item\"><div class=\"sk-estimator sk-toggleable\"><input class=\"sk-toggleable__control sk-hidden--visually\" id=\"sk-estimator-id-50\" type=\"checkbox\" ><label for=\"sk-estimator-id-50\" class=\"sk-toggleable__label sk-toggleable__label-arrow\">LogisticRegression</label><div class=\"sk-toggleable__content\"><pre>LogisticRegression(max_iter=1000, penalty=&#x27;l1&#x27;, random_state=369,\n",
       "                   solver=&#x27;liblinear&#x27;)</pre></div></div></div></div></div></div></div></div></div></div>"
      ],
      "text/plain": [
       "SequentialFeatureSelector(estimator=LogisticRegression(max_iter=1000,\n",
       "                                                       penalty='l1',\n",
       "                                                       random_state=369,\n",
       "                                                       solver='liblinear'),\n",
       "                          floating=True, k_features=(10, 20),\n",
       "                          scoring='accuracy')"
      ]
     },
     "execution_count": 283,
     "metadata": {},
     "output_type": "execute_result"
    }
   ],
   "source": [
    "sfs_md.fit(X_train_res,y_train_res)"
   ]
  },
  {
   "cell_type": "code",
   "execution_count": 284,
   "id": "6445ba74",
   "metadata": {
    "scrolled": true
   },
   "outputs": [
    {
     "data": {
      "text/plain": [
       "('Education',\n",
       " 'Income',\n",
       " 'Recency',\n",
       " 'MntWines',\n",
       " 'MntMeatProducts',\n",
       " 'NumDealsPurchases',\n",
       " 'NumCatalogPurchases',\n",
       " 'NumStorePurchases',\n",
       " 'NumWebVisitsMonth',\n",
       " 'AcceptedCmp3',\n",
       " 'AcceptedCmp4',\n",
       " 'AcceptedCmp5',\n",
       " 'AcceptedCmp1',\n",
       " 'AcceptedCmp2',\n",
       " 'Complain',\n",
       " 'Age',\n",
       " 'Children',\n",
       " 'JoiningYear',\n",
       " 'MaritalStatus_Spousal relationship')"
      ]
     },
     "execution_count": 284,
     "metadata": {},
     "output_type": "execute_result"
    }
   ],
   "source": [
    "sfs_md.k_feature_names_"
   ]
  },
  {
   "cell_type": "code",
   "execution_count": 285,
   "id": "11c22fac",
   "metadata": {},
   "outputs": [
    {
     "data": {
      "text/html": [
       "<div>\n",
       "<style scoped>\n",
       "    .dataframe tbody tr th:only-of-type {\n",
       "        vertical-align: middle;\n",
       "    }\n",
       "\n",
       "    .dataframe tbody tr th {\n",
       "        vertical-align: top;\n",
       "    }\n",
       "\n",
       "    .dataframe thead th {\n",
       "        text-align: right;\n",
       "    }\n",
       "</style>\n",
       "<table border=\"1\" class=\"dataframe\">\n",
       "  <thead>\n",
       "    <tr style=\"text-align: right;\">\n",
       "      <th></th>\n",
       "      <th>feature_idx</th>\n",
       "      <th>cv_scores</th>\n",
       "      <th>avg_score</th>\n",
       "      <th>feature_names</th>\n",
       "      <th>ci_bound</th>\n",
       "      <th>std_dev</th>\n",
       "      <th>std_err</th>\n",
       "    </tr>\n",
       "  </thead>\n",
       "  <tbody>\n",
       "    <tr>\n",
       "      <th>1</th>\n",
       "      <td>(8,)</td>\n",
       "      <td>[0.6831460674157304, 0.6539325842696629, 0.675...</td>\n",
       "      <td>0.687686</td>\n",
       "      <td>(MntGoldProds,)</td>\n",
       "      <td>0.034906</td>\n",
       "      <td>0.027158</td>\n",
       "      <td>0.013579</td>\n",
       "    </tr>\n",
       "    <tr>\n",
       "      <th>2</th>\n",
       "      <td>(8, 19)</td>\n",
       "      <td>[0.6853932584269663, 0.6561797752808989, 0.682...</td>\n",
       "      <td>0.687684</td>\n",
       "      <td>(MntGoldProds, Complain)</td>\n",
       "      <td>0.030427</td>\n",
       "      <td>0.023674</td>\n",
       "      <td>0.011837</td>\n",
       "    </tr>\n",
       "    <tr>\n",
       "      <th>3</th>\n",
       "      <td>(8, 11, 22)</td>\n",
       "      <td>[0.7235955056179775, 0.7393258426966293, 0.727...</td>\n",
       "      <td>0.740332</td>\n",
       "      <td>(MntGoldProds, NumCatalogPurchases, JoiningYear)</td>\n",
       "      <td>0.020088</td>\n",
       "      <td>0.015629</td>\n",
       "      <td>0.007815</td>\n",
       "    </tr>\n",
       "    <tr>\n",
       "      <th>4</th>\n",
       "      <td>(2, 8, 11, 22)</td>\n",
       "      <td>[0.7662921348314606, 0.7865168539325843, 0.768...</td>\n",
       "      <td>0.776778</td>\n",
       "      <td>(Recency, MntGoldProds, NumCatalogPurchases, J...</td>\n",
       "      <td>0.01055</td>\n",
       "      <td>0.008208</td>\n",
       "      <td>0.004104</td>\n",
       "    </tr>\n",
       "    <tr>\n",
       "      <th>5</th>\n",
       "      <td>(2, 8, 11, 16, 22)</td>\n",
       "      <td>[0.7955056179775281, 0.8202247191011236, 0.792...</td>\n",
       "      <td>0.803777</td>\n",
       "      <td>(Recency, MntGoldProds, NumCatalogPurchases, A...</td>\n",
       "      <td>0.013195</td>\n",
       "      <td>0.010266</td>\n",
       "      <td>0.005133</td>\n",
       "    </tr>\n",
       "    <tr>\n",
       "      <th>6</th>\n",
       "      <td>(2, 8, 11, 13, 16, 22)</td>\n",
       "      <td>[0.8067415730337079, 0.8674157303370786, 0.804...</td>\n",
       "      <td>0.819516</td>\n",
       "      <td>(Recency, MntGoldProds, NumCatalogPurchases, N...</td>\n",
       "      <td>0.031558</td>\n",
       "      <td>0.024553</td>\n",
       "      <td>0.012276</td>\n",
       "    </tr>\n",
       "    <tr>\n",
       "      <th>7</th>\n",
       "      <td>(2, 5, 8, 11, 13, 16, 22)</td>\n",
       "      <td>[0.8179775280898877, 0.8764044943820225, 0.846...</td>\n",
       "      <td>0.843381</td>\n",
       "      <td>(Recency, MntMeatProducts, MntGoldProds, NumCa...</td>\n",
       "      <td>0.025523</td>\n",
       "      <td>0.019858</td>\n",
       "      <td>0.009929</td>\n",
       "    </tr>\n",
       "    <tr>\n",
       "      <th>8</th>\n",
       "      <td>(2, 5, 8, 11, 13, 14, 16, 22)</td>\n",
       "      <td>[0.8269662921348314, 0.903370786516854, 0.8423...</td>\n",
       "      <td>0.854626</td>\n",
       "      <td>(Recency, MntMeatProducts, MntGoldProds, NumCa...</td>\n",
       "      <td>0.033287</td>\n",
       "      <td>0.025898</td>\n",
       "      <td>0.012949</td>\n",
       "    </tr>\n",
       "    <tr>\n",
       "      <th>9</th>\n",
       "      <td>(0, 2, 5, 8, 11, 13, 14, 16, 22)</td>\n",
       "      <td>[0.8539325842696629, 0.9056179775280899, 0.849...</td>\n",
       "      <td>0.866775</td>\n",
       "      <td>(Education, Recency, MntMeatProducts, MntGoldP...</td>\n",
       "      <td>0.028843</td>\n",
       "      <td>0.022441</td>\n",
       "      <td>0.01122</td>\n",
       "    </tr>\n",
       "    <tr>\n",
       "      <th>10</th>\n",
       "      <td>(0, 2, 5, 11, 12, 13, 14, 15, 16, 22)</td>\n",
       "      <td>[0.851685393258427, 0.9101123595505618, 0.8626...</td>\n",
       "      <td>0.872179</td>\n",
       "      <td>(Education, Recency, MntMeatProducts, NumCatal...</td>\n",
       "      <td>0.025603</td>\n",
       "      <td>0.01992</td>\n",
       "      <td>0.00996</td>\n",
       "    </tr>\n",
       "    <tr>\n",
       "      <th>11</th>\n",
       "      <td>(0, 2, 5, 9, 11, 12, 13, 14, 15, 16, 22)</td>\n",
       "      <td>[0.851685393258427, 0.9101123595505618, 0.8716...</td>\n",
       "      <td>0.875333</td>\n",
       "      <td>(Education, Recency, MntMeatProducts, NumDeals...</td>\n",
       "      <td>0.024728</td>\n",
       "      <td>0.019239</td>\n",
       "      <td>0.00962</td>\n",
       "    </tr>\n",
       "    <tr>\n",
       "      <th>12</th>\n",
       "      <td>(0, 2, 5, 9, 11, 12, 13, 14, 15, 16, 22, 23)</td>\n",
       "      <td>[0.851685393258427, 0.9213483146067416, 0.8716...</td>\n",
       "      <td>0.879832</td>\n",
       "      <td>(Education, Recency, MntMeatProducts, NumDeals...</td>\n",
       "      <td>0.030426</td>\n",
       "      <td>0.023673</td>\n",
       "      <td>0.011836</td>\n",
       "    </tr>\n",
       "    <tr>\n",
       "      <th>13</th>\n",
       "      <td>(0, 2, 5, 9, 11, 12, 13, 14, 15, 16, 18, 22, 23)</td>\n",
       "      <td>[0.8606741573033708, 0.9213483146067416, 0.880...</td>\n",
       "      <td>0.884783</td>\n",
       "      <td>(Education, Recency, MntMeatProducts, NumDeals...</td>\n",
       "      <td>0.026542</td>\n",
       "      <td>0.020651</td>\n",
       "      <td>0.010325</td>\n",
       "    </tr>\n",
       "    <tr>\n",
       "      <th>14</th>\n",
       "      <td>(0, 2, 3, 5, 9, 11, 12, 13, 14, 15, 16, 18, 22...</td>\n",
       "      <td>[0.8651685393258427, 0.9280898876404494, 0.878...</td>\n",
       "      <td>0.887481</td>\n",
       "      <td>(Education, Recency, MntWines, MntMeatProducts...</td>\n",
       "      <td>0.027944</td>\n",
       "      <td>0.021741</td>\n",
       "      <td>0.010871</td>\n",
       "    </tr>\n",
       "    <tr>\n",
       "      <th>15</th>\n",
       "      <td>(0, 2, 3, 5, 9, 11, 12, 13, 14, 15, 16, 17, 18...</td>\n",
       "      <td>[0.8629213483146068, 0.9348314606741573, 0.878...</td>\n",
       "      <td>0.88928</td>\n",
       "      <td>(Education, Recency, MntWines, MntMeatProducts...</td>\n",
       "      <td>0.03113</td>\n",
       "      <td>0.02422</td>\n",
       "      <td>0.01211</td>\n",
       "    </tr>\n",
       "    <tr>\n",
       "      <th>16</th>\n",
       "      <td>(0, 2, 3, 5, 9, 11, 12, 13, 14, 15, 16, 17, 18...</td>\n",
       "      <td>[0.8808988764044944, 0.9258426966292135, 0.880...</td>\n",
       "      <td>0.892429</td>\n",
       "      <td>(Education, Recency, MntWines, MntMeatProducts...</td>\n",
       "      <td>0.022489</td>\n",
       "      <td>0.017497</td>\n",
       "      <td>0.008749</td>\n",
       "    </tr>\n",
       "    <tr>\n",
       "      <th>17</th>\n",
       "      <td>(0, 2, 3, 5, 9, 11, 12, 13, 14, 15, 16, 17, 18...</td>\n",
       "      <td>[0.8786516853932584, 0.9280898876404494, 0.880...</td>\n",
       "      <td>0.892429</td>\n",
       "      <td>(Education, Recency, MntWines, MntMeatProducts...</td>\n",
       "      <td>0.023996</td>\n",
       "      <td>0.01867</td>\n",
       "      <td>0.009335</td>\n",
       "    </tr>\n",
       "    <tr>\n",
       "      <th>18</th>\n",
       "      <td>(0, 2, 3, 5, 9, 11, 12, 13, 14, 15, 16, 17, 18...</td>\n",
       "      <td>[0.8786516853932584, 0.9280898876404494, 0.880...</td>\n",
       "      <td>0.892429</td>\n",
       "      <td>(Education, Recency, MntWines, MntMeatProducts...</td>\n",
       "      <td>0.023996</td>\n",
       "      <td>0.01867</td>\n",
       "      <td>0.009335</td>\n",
       "    </tr>\n",
       "    <tr>\n",
       "      <th>19</th>\n",
       "      <td>(0, 1, 2, 3, 5, 9, 11, 12, 13, 14, 15, 16, 17,...</td>\n",
       "      <td>[0.8764044943820225, 0.9280898876404494, 0.882...</td>\n",
       "      <td>0.89243</td>\n",
       "      <td>(Education, Income, Recency, MntWines, MntMeat...</td>\n",
       "      <td>0.024126</td>\n",
       "      <td>0.018771</td>\n",
       "      <td>0.009386</td>\n",
       "    </tr>\n",
       "    <tr>\n",
       "      <th>20</th>\n",
       "      <td>(0, 1, 2, 3, 5, 9, 10, 11, 12, 13, 14, 15, 16,...</td>\n",
       "      <td>[0.8786516853932584, 0.9280898876404494, 0.880...</td>\n",
       "      <td>0.892429</td>\n",
       "      <td>(Education, Income, Recency, MntWines, MntMeat...</td>\n",
       "      <td>0.023996</td>\n",
       "      <td>0.01867</td>\n",
       "      <td>0.009335</td>\n",
       "    </tr>\n",
       "  </tbody>\n",
       "</table>\n",
       "</div>"
      ],
      "text/plain": [
       "                                          feature_idx  \\\n",
       "1                                                (8,)   \n",
       "2                                             (8, 19)   \n",
       "3                                         (8, 11, 22)   \n",
       "4                                      (2, 8, 11, 22)   \n",
       "5                                  (2, 8, 11, 16, 22)   \n",
       "6                              (2, 8, 11, 13, 16, 22)   \n",
       "7                           (2, 5, 8, 11, 13, 16, 22)   \n",
       "8                       (2, 5, 8, 11, 13, 14, 16, 22)   \n",
       "9                    (0, 2, 5, 8, 11, 13, 14, 16, 22)   \n",
       "10              (0, 2, 5, 11, 12, 13, 14, 15, 16, 22)   \n",
       "11           (0, 2, 5, 9, 11, 12, 13, 14, 15, 16, 22)   \n",
       "12       (0, 2, 5, 9, 11, 12, 13, 14, 15, 16, 22, 23)   \n",
       "13   (0, 2, 5, 9, 11, 12, 13, 14, 15, 16, 18, 22, 23)   \n",
       "14  (0, 2, 3, 5, 9, 11, 12, 13, 14, 15, 16, 18, 22...   \n",
       "15  (0, 2, 3, 5, 9, 11, 12, 13, 14, 15, 16, 17, 18...   \n",
       "16  (0, 2, 3, 5, 9, 11, 12, 13, 14, 15, 16, 17, 18...   \n",
       "17  (0, 2, 3, 5, 9, 11, 12, 13, 14, 15, 16, 17, 18...   \n",
       "18  (0, 2, 3, 5, 9, 11, 12, 13, 14, 15, 16, 17, 18...   \n",
       "19  (0, 1, 2, 3, 5, 9, 11, 12, 13, 14, 15, 16, 17,...   \n",
       "20  (0, 1, 2, 3, 5, 9, 10, 11, 12, 13, 14, 15, 16,...   \n",
       "\n",
       "                                            cv_scores avg_score  \\\n",
       "1   [0.6831460674157304, 0.6539325842696629, 0.675...  0.687686   \n",
       "2   [0.6853932584269663, 0.6561797752808989, 0.682...  0.687684   \n",
       "3   [0.7235955056179775, 0.7393258426966293, 0.727...  0.740332   \n",
       "4   [0.7662921348314606, 0.7865168539325843, 0.768...  0.776778   \n",
       "5   [0.7955056179775281, 0.8202247191011236, 0.792...  0.803777   \n",
       "6   [0.8067415730337079, 0.8674157303370786, 0.804...  0.819516   \n",
       "7   [0.8179775280898877, 0.8764044943820225, 0.846...  0.843381   \n",
       "8   [0.8269662921348314, 0.903370786516854, 0.8423...  0.854626   \n",
       "9   [0.8539325842696629, 0.9056179775280899, 0.849...  0.866775   \n",
       "10  [0.851685393258427, 0.9101123595505618, 0.8626...  0.872179   \n",
       "11  [0.851685393258427, 0.9101123595505618, 0.8716...  0.875333   \n",
       "12  [0.851685393258427, 0.9213483146067416, 0.8716...  0.879832   \n",
       "13  [0.8606741573033708, 0.9213483146067416, 0.880...  0.884783   \n",
       "14  [0.8651685393258427, 0.9280898876404494, 0.878...  0.887481   \n",
       "15  [0.8629213483146068, 0.9348314606741573, 0.878...   0.88928   \n",
       "16  [0.8808988764044944, 0.9258426966292135, 0.880...  0.892429   \n",
       "17  [0.8786516853932584, 0.9280898876404494, 0.880...  0.892429   \n",
       "18  [0.8786516853932584, 0.9280898876404494, 0.880...  0.892429   \n",
       "19  [0.8764044943820225, 0.9280898876404494, 0.882...   0.89243   \n",
       "20  [0.8786516853932584, 0.9280898876404494, 0.880...  0.892429   \n",
       "\n",
       "                                        feature_names  ci_bound   std_dev  \\\n",
       "1                                     (MntGoldProds,)  0.034906  0.027158   \n",
       "2                            (MntGoldProds, Complain)  0.030427  0.023674   \n",
       "3    (MntGoldProds, NumCatalogPurchases, JoiningYear)  0.020088  0.015629   \n",
       "4   (Recency, MntGoldProds, NumCatalogPurchases, J...   0.01055  0.008208   \n",
       "5   (Recency, MntGoldProds, NumCatalogPurchases, A...  0.013195  0.010266   \n",
       "6   (Recency, MntGoldProds, NumCatalogPurchases, N...  0.031558  0.024553   \n",
       "7   (Recency, MntMeatProducts, MntGoldProds, NumCa...  0.025523  0.019858   \n",
       "8   (Recency, MntMeatProducts, MntGoldProds, NumCa...  0.033287  0.025898   \n",
       "9   (Education, Recency, MntMeatProducts, MntGoldP...  0.028843  0.022441   \n",
       "10  (Education, Recency, MntMeatProducts, NumCatal...  0.025603   0.01992   \n",
       "11  (Education, Recency, MntMeatProducts, NumDeals...  0.024728  0.019239   \n",
       "12  (Education, Recency, MntMeatProducts, NumDeals...  0.030426  0.023673   \n",
       "13  (Education, Recency, MntMeatProducts, NumDeals...  0.026542  0.020651   \n",
       "14  (Education, Recency, MntWines, MntMeatProducts...  0.027944  0.021741   \n",
       "15  (Education, Recency, MntWines, MntMeatProducts...   0.03113   0.02422   \n",
       "16  (Education, Recency, MntWines, MntMeatProducts...  0.022489  0.017497   \n",
       "17  (Education, Recency, MntWines, MntMeatProducts...  0.023996   0.01867   \n",
       "18  (Education, Recency, MntWines, MntMeatProducts...  0.023996   0.01867   \n",
       "19  (Education, Income, Recency, MntWines, MntMeat...  0.024126  0.018771   \n",
       "20  (Education, Income, Recency, MntWines, MntMeat...  0.023996   0.01867   \n",
       "\n",
       "     std_err  \n",
       "1   0.013579  \n",
       "2   0.011837  \n",
       "3   0.007815  \n",
       "4   0.004104  \n",
       "5   0.005133  \n",
       "6   0.012276  \n",
       "7   0.009929  \n",
       "8   0.012949  \n",
       "9    0.01122  \n",
       "10   0.00996  \n",
       "11   0.00962  \n",
       "12  0.011836  \n",
       "13  0.010325  \n",
       "14  0.010871  \n",
       "15   0.01211  \n",
       "16  0.008749  \n",
       "17  0.009335  \n",
       "18  0.009335  \n",
       "19  0.009386  \n",
       "20  0.009335  "
      ]
     },
     "execution_count": 285,
     "metadata": {},
     "output_type": "execute_result"
    }
   ],
   "source": [
    "pd.DataFrame.from_dict(sfs_md.get_metric_dict()).T"
   ]
  },
  {
   "cell_type": "code",
   "execution_count": null,
   "id": "677b60ed",
   "metadata": {},
   "outputs": [],
   "source": []
  },
  {
   "cell_type": "code",
   "execution_count": 286,
   "id": "48ef3b14",
   "metadata": {},
   "outputs": [],
   "source": [
    "X_train_fs = X_train_res[X_train[['Education',\n",
    " 'Income',\n",
    " 'Recency',\n",
    " 'MntWines',\n",
    " 'MntMeatProducts',\n",
    " 'NumDealsPurchases',\n",
    " 'NumCatalogPurchases',\n",
    " 'NumStorePurchases',\n",
    " 'NumWebVisitsMonth',\n",
    " 'AcceptedCmp3',\n",
    " 'AcceptedCmp4',\n",
    " 'AcceptedCmp5',\n",
    " 'AcceptedCmp1',\n",
    " 'AcceptedCmp2',\n",
    " 'Complain',\n",
    " 'Age',\n",
    " 'Children',\n",
    " 'JoiningYear',\n",
    " 'MaritalStatus_Spousal relationship']].columns]"
   ]
  },
  {
   "cell_type": "code",
   "execution_count": 287,
   "id": "c5d4d7e9",
   "metadata": {},
   "outputs": [],
   "source": [
    "logit_reg = LogisticRegression(random_state=369,solver='liblinear',max_iter=1000,penalty='l1')"
   ]
  },
  {
   "cell_type": "code",
   "execution_count": 288,
   "id": "24cb8170",
   "metadata": {},
   "outputs": [
    {
     "data": {
      "text/html": [
       "<style>#sk-container-id-25 {color: black;background-color: white;}#sk-container-id-25 pre{padding: 0;}#sk-container-id-25 div.sk-toggleable {background-color: white;}#sk-container-id-25 label.sk-toggleable__label {cursor: pointer;display: block;width: 100%;margin-bottom: 0;padding: 0.3em;box-sizing: border-box;text-align: center;}#sk-container-id-25 label.sk-toggleable__label-arrow:before {content: \"▸\";float: left;margin-right: 0.25em;color: #696969;}#sk-container-id-25 label.sk-toggleable__label-arrow:hover:before {color: black;}#sk-container-id-25 div.sk-estimator:hover label.sk-toggleable__label-arrow:before {color: black;}#sk-container-id-25 div.sk-toggleable__content {max-height: 0;max-width: 0;overflow: hidden;text-align: left;background-color: #f0f8ff;}#sk-container-id-25 div.sk-toggleable__content pre {margin: 0.2em;color: black;border-radius: 0.25em;background-color: #f0f8ff;}#sk-container-id-25 input.sk-toggleable__control:checked~div.sk-toggleable__content {max-height: 200px;max-width: 100%;overflow: auto;}#sk-container-id-25 input.sk-toggleable__control:checked~label.sk-toggleable__label-arrow:before {content: \"▾\";}#sk-container-id-25 div.sk-estimator input.sk-toggleable__control:checked~label.sk-toggleable__label {background-color: #d4ebff;}#sk-container-id-25 div.sk-label input.sk-toggleable__control:checked~label.sk-toggleable__label {background-color: #d4ebff;}#sk-container-id-25 input.sk-hidden--visually {border: 0;clip: rect(1px 1px 1px 1px);clip: rect(1px, 1px, 1px, 1px);height: 1px;margin: -1px;overflow: hidden;padding: 0;position: absolute;width: 1px;}#sk-container-id-25 div.sk-estimator {font-family: monospace;background-color: #f0f8ff;border: 1px dotted black;border-radius: 0.25em;box-sizing: border-box;margin-bottom: 0.5em;}#sk-container-id-25 div.sk-estimator:hover {background-color: #d4ebff;}#sk-container-id-25 div.sk-parallel-item::after {content: \"\";width: 100%;border-bottom: 1px solid gray;flex-grow: 1;}#sk-container-id-25 div.sk-label:hover label.sk-toggleable__label {background-color: #d4ebff;}#sk-container-id-25 div.sk-serial::before {content: \"\";position: absolute;border-left: 1px solid gray;box-sizing: border-box;top: 0;bottom: 0;left: 50%;z-index: 0;}#sk-container-id-25 div.sk-serial {display: flex;flex-direction: column;align-items: center;background-color: white;padding-right: 0.2em;padding-left: 0.2em;position: relative;}#sk-container-id-25 div.sk-item {position: relative;z-index: 1;}#sk-container-id-25 div.sk-parallel {display: flex;align-items: stretch;justify-content: center;background-color: white;position: relative;}#sk-container-id-25 div.sk-item::before, #sk-container-id-25 div.sk-parallel-item::before {content: \"\";position: absolute;border-left: 1px solid gray;box-sizing: border-box;top: 0;bottom: 0;left: 50%;z-index: -1;}#sk-container-id-25 div.sk-parallel-item {display: flex;flex-direction: column;z-index: 1;position: relative;background-color: white;}#sk-container-id-25 div.sk-parallel-item:first-child::after {align-self: flex-end;width: 50%;}#sk-container-id-25 div.sk-parallel-item:last-child::after {align-self: flex-start;width: 50%;}#sk-container-id-25 div.sk-parallel-item:only-child::after {width: 0;}#sk-container-id-25 div.sk-dashed-wrapped {border: 1px dashed gray;margin: 0 0.4em 0.5em 0.4em;box-sizing: border-box;padding-bottom: 0.4em;background-color: white;}#sk-container-id-25 div.sk-label label {font-family: monospace;font-weight: bold;display: inline-block;line-height: 1.2em;}#sk-container-id-25 div.sk-label-container {text-align: center;}#sk-container-id-25 div.sk-container {/* jupyter's `normalize.less` sets `[hidden] { display: none; }` but bootstrap.min.css set `[hidden] { display: none !important; }` so we also need the `!important` here to be able to override the default hidden behavior on the sphinx rendered scikit-learn.org. See: https://github.com/scikit-learn/scikit-learn/issues/21755 */display: inline-block !important;position: relative;}#sk-container-id-25 div.sk-text-repr-fallback {display: none;}</style><div id=\"sk-container-id-25\" class=\"sk-top-container\"><div class=\"sk-text-repr-fallback\"><pre>LogisticRegression(max_iter=1000, penalty=&#x27;l1&#x27;, random_state=369,\n",
       "                   solver=&#x27;liblinear&#x27;)</pre><b>In a Jupyter environment, please rerun this cell to show the HTML representation or trust the notebook. <br />On GitHub, the HTML representation is unable to render, please try loading this page with nbviewer.org.</b></div><div class=\"sk-container\" hidden><div class=\"sk-item\"><div class=\"sk-estimator sk-toggleable\"><input class=\"sk-toggleable__control sk-hidden--visually\" id=\"sk-estimator-id-51\" type=\"checkbox\" checked><label for=\"sk-estimator-id-51\" class=\"sk-toggleable__label sk-toggleable__label-arrow\">LogisticRegression</label><div class=\"sk-toggleable__content\"><pre>LogisticRegression(max_iter=1000, penalty=&#x27;l1&#x27;, random_state=369,\n",
       "                   solver=&#x27;liblinear&#x27;)</pre></div></div></div></div></div>"
      ],
      "text/plain": [
       "LogisticRegression(max_iter=1000, penalty='l1', random_state=369,\n",
       "                   solver='liblinear')"
      ]
     },
     "execution_count": 288,
     "metadata": {},
     "output_type": "execute_result"
    }
   ],
   "source": [
    "logit_reg.fit(X_train_fs,y_train_res)"
   ]
  },
  {
   "cell_type": "code",
   "execution_count": 289,
   "id": "d0cb038c",
   "metadata": {},
   "outputs": [
    {
     "data": {
      "text/plain": [
       "array([[ 0.80497551, -0.05958196, -1.31586661, -0.14783003,  1.37708093,\n",
       "         0.56070585,  0.45527778, -0.93569599,  0.44319423,  1.04608607,\n",
       "         0.38793955,  0.84168441,  0.56410663,  0.73071073, -0.04654916,\n",
       "        -0.25841794,  0.        , -1.24882726, -0.71905413]])"
      ]
     },
     "execution_count": 289,
     "metadata": {},
     "output_type": "execute_result"
    }
   ],
   "source": [
    "logit_reg.coef_"
   ]
  },
  {
   "cell_type": "code",
   "execution_count": 290,
   "id": "2daae227",
   "metadata": {},
   "outputs": [
    {
     "data": {
      "text/plain": [
       "array([-0.72785964])"
      ]
     },
     "execution_count": 290,
     "metadata": {},
     "output_type": "execute_result"
    }
   ],
   "source": [
    "logit_reg.intercept_"
   ]
  },
  {
   "cell_type": "code",
   "execution_count": 291,
   "id": "d2c95dea",
   "metadata": {
    "scrolled": true
   },
   "outputs": [
    {
     "data": {
      "text/html": [
       "<div>\n",
       "<style scoped>\n",
       "    .dataframe tbody tr th:only-of-type {\n",
       "        vertical-align: middle;\n",
       "    }\n",
       "\n",
       "    .dataframe tbody tr th {\n",
       "        vertical-align: top;\n",
       "    }\n",
       "\n",
       "    .dataframe thead th {\n",
       "        text-align: right;\n",
       "    }\n",
       "</style>\n",
       "<table border=\"1\" class=\"dataframe\">\n",
       "  <thead>\n",
       "    <tr style=\"text-align: right;\">\n",
       "      <th></th>\n",
       "      <th>0</th>\n",
       "      <th>Coefficients</th>\n",
       "    </tr>\n",
       "  </thead>\n",
       "  <tbody>\n",
       "    <tr>\n",
       "      <th>0</th>\n",
       "      <td>0.804976</td>\n",
       "      <td>Education</td>\n",
       "    </tr>\n",
       "    <tr>\n",
       "      <th>1</th>\n",
       "      <td>-0.059582</td>\n",
       "      <td>Income</td>\n",
       "    </tr>\n",
       "    <tr>\n",
       "      <th>2</th>\n",
       "      <td>-1.315867</td>\n",
       "      <td>Recency</td>\n",
       "    </tr>\n",
       "    <tr>\n",
       "      <th>3</th>\n",
       "      <td>-0.147830</td>\n",
       "      <td>MntWines</td>\n",
       "    </tr>\n",
       "    <tr>\n",
       "      <th>4</th>\n",
       "      <td>1.377081</td>\n",
       "      <td>MntMeatProducts</td>\n",
       "    </tr>\n",
       "    <tr>\n",
       "      <th>5</th>\n",
       "      <td>0.560706</td>\n",
       "      <td>NumDealsPurchases</td>\n",
       "    </tr>\n",
       "    <tr>\n",
       "      <th>6</th>\n",
       "      <td>0.455278</td>\n",
       "      <td>NumCatalogPurchases</td>\n",
       "    </tr>\n",
       "    <tr>\n",
       "      <th>7</th>\n",
       "      <td>-0.935696</td>\n",
       "      <td>NumStorePurchases</td>\n",
       "    </tr>\n",
       "    <tr>\n",
       "      <th>8</th>\n",
       "      <td>0.443194</td>\n",
       "      <td>NumWebVisitsMonth</td>\n",
       "    </tr>\n",
       "    <tr>\n",
       "      <th>9</th>\n",
       "      <td>1.046086</td>\n",
       "      <td>AcceptedCmp3</td>\n",
       "    </tr>\n",
       "    <tr>\n",
       "      <th>10</th>\n",
       "      <td>0.387940</td>\n",
       "      <td>AcceptedCmp4</td>\n",
       "    </tr>\n",
       "    <tr>\n",
       "      <th>11</th>\n",
       "      <td>0.841684</td>\n",
       "      <td>AcceptedCmp5</td>\n",
       "    </tr>\n",
       "    <tr>\n",
       "      <th>12</th>\n",
       "      <td>0.564107</td>\n",
       "      <td>AcceptedCmp1</td>\n",
       "    </tr>\n",
       "    <tr>\n",
       "      <th>13</th>\n",
       "      <td>0.730711</td>\n",
       "      <td>AcceptedCmp2</td>\n",
       "    </tr>\n",
       "    <tr>\n",
       "      <th>14</th>\n",
       "      <td>-0.046549</td>\n",
       "      <td>Complain</td>\n",
       "    </tr>\n",
       "    <tr>\n",
       "      <th>15</th>\n",
       "      <td>-0.258418</td>\n",
       "      <td>Age</td>\n",
       "    </tr>\n",
       "    <tr>\n",
       "      <th>16</th>\n",
       "      <td>0.000000</td>\n",
       "      <td>Children</td>\n",
       "    </tr>\n",
       "    <tr>\n",
       "      <th>17</th>\n",
       "      <td>-1.248827</td>\n",
       "      <td>JoiningYear</td>\n",
       "    </tr>\n",
       "    <tr>\n",
       "      <th>18</th>\n",
       "      <td>-0.719054</td>\n",
       "      <td>MaritalStatus_Spousal relationship</td>\n",
       "    </tr>\n",
       "  </tbody>\n",
       "</table>\n",
       "</div>"
      ],
      "text/plain": [
       "           0                        Coefficients\n",
       "0   0.804976                           Education\n",
       "1  -0.059582                              Income\n",
       "2  -1.315867                             Recency\n",
       "3  -0.147830                            MntWines\n",
       "4   1.377081                     MntMeatProducts\n",
       "5   0.560706                   NumDealsPurchases\n",
       "6   0.455278                 NumCatalogPurchases\n",
       "7  -0.935696                   NumStorePurchases\n",
       "8   0.443194                   NumWebVisitsMonth\n",
       "9   1.046086                        AcceptedCmp3\n",
       "10  0.387940                        AcceptedCmp4\n",
       "11  0.841684                        AcceptedCmp5\n",
       "12  0.564107                        AcceptedCmp1\n",
       "13  0.730711                        AcceptedCmp2\n",
       "14 -0.046549                            Complain\n",
       "15 -0.258418                                 Age\n",
       "16  0.000000                            Children\n",
       "17 -1.248827                         JoiningYear\n",
       "18 -0.719054  MaritalStatus_Spousal relationship"
      ]
     },
     "execution_count": 291,
     "metadata": {},
     "output_type": "execute_result"
    }
   ],
   "source": [
    "coeff_info = pd.DataFrame(logit_reg.coef_).T\n",
    "coeff_info['Coefficients'] = X_train_fs.columns\n",
    "coeff_info"
   ]
  },
  {
   "cell_type": "code",
   "execution_count": 292,
   "id": "51ec6eea",
   "metadata": {},
   "outputs": [
    {
     "data": {
      "text/html": [
       "<div>\n",
       "<style scoped>\n",
       "    .dataframe tbody tr th:only-of-type {\n",
       "        vertical-align: middle;\n",
       "    }\n",
       "\n",
       "    .dataframe tbody tr th {\n",
       "        vertical-align: top;\n",
       "    }\n",
       "\n",
       "    .dataframe thead th {\n",
       "        text-align: right;\n",
       "    }\n",
       "</style>\n",
       "<table border=\"1\" class=\"dataframe\">\n",
       "  <thead>\n",
       "    <tr style=\"text-align: right;\">\n",
       "      <th></th>\n",
       "      <th>Education</th>\n",
       "      <th>Income</th>\n",
       "      <th>Recency</th>\n",
       "      <th>MntWines</th>\n",
       "      <th>MntMeatProducts</th>\n",
       "      <th>NumDealsPurchases</th>\n",
       "      <th>NumCatalogPurchases</th>\n",
       "      <th>NumStorePurchases</th>\n",
       "      <th>NumWebVisitsMonth</th>\n",
       "      <th>AcceptedCmp3</th>\n",
       "      <th>AcceptedCmp4</th>\n",
       "      <th>AcceptedCmp5</th>\n",
       "      <th>AcceptedCmp1</th>\n",
       "      <th>AcceptedCmp2</th>\n",
       "      <th>Complain</th>\n",
       "      <th>Age</th>\n",
       "      <th>Children</th>\n",
       "      <th>JoiningYear</th>\n",
       "      <th>MaritalStatus_Spousal relationship</th>\n",
       "    </tr>\n",
       "  </thead>\n",
       "  <tbody>\n",
       "    <tr>\n",
       "      <th>358</th>\n",
       "      <td>-0.427121</td>\n",
       "      <td>0.512538</td>\n",
       "      <td>0.548785</td>\n",
       "      <td>0.965952</td>\n",
       "      <td>0.044535</td>\n",
       "      <td>-0.685887</td>\n",
       "      <td>0.115638</td>\n",
       "      <td>-0.243114</td>\n",
       "      <td>-1.367014</td>\n",
       "      <td>-0.28014</td>\n",
       "      <td>-0.283830</td>\n",
       "      <td>-0.28014</td>\n",
       "      <td>-0.262111</td>\n",
       "      <td>-0.11651</td>\n",
       "      <td>10.279429</td>\n",
       "      <td>2.153823</td>\n",
       "      <td>-1.264505</td>\n",
       "      <td>-0.041094</td>\n",
       "      <td>0.742460</td>\n",
       "    </tr>\n",
       "    <tr>\n",
       "      <th>1547</th>\n",
       "      <td>-0.427121</td>\n",
       "      <td>-0.847561</td>\n",
       "      <td>0.030758</td>\n",
       "      <td>-0.751617</td>\n",
       "      <td>-0.518246</td>\n",
       "      <td>-0.685887</td>\n",
       "      <td>-0.910898</td>\n",
       "      <td>-0.858455</td>\n",
       "      <td>1.106087</td>\n",
       "      <td>-0.28014</td>\n",
       "      <td>-0.283830</td>\n",
       "      <td>-0.28014</td>\n",
       "      <td>-0.262111</td>\n",
       "      <td>-0.11651</td>\n",
       "      <td>-0.097282</td>\n",
       "      <td>0.484568</td>\n",
       "      <td>-1.264505</td>\n",
       "      <td>-1.502225</td>\n",
       "      <td>-1.346874</td>\n",
       "    </tr>\n",
       "    <tr>\n",
       "      <th>1061</th>\n",
       "      <td>-0.427121</td>\n",
       "      <td>0.517446</td>\n",
       "      <td>-0.521805</td>\n",
       "      <td>1.304711</td>\n",
       "      <td>0.062260</td>\n",
       "      <td>-0.168236</td>\n",
       "      <td>1.142175</td>\n",
       "      <td>1.602907</td>\n",
       "      <td>-0.130463</td>\n",
       "      <td>3.56964</td>\n",
       "      <td>-0.283830</td>\n",
       "      <td>-0.28014</td>\n",
       "      <td>-0.262111</td>\n",
       "      <td>-0.11651</td>\n",
       "      <td>-0.097282</td>\n",
       "      <td>0.901882</td>\n",
       "      <td>1.396361</td>\n",
       "      <td>-0.041094</td>\n",
       "      <td>0.742460</td>\n",
       "    </tr>\n",
       "    <tr>\n",
       "      <th>1419</th>\n",
       "      <td>-0.427121</td>\n",
       "      <td>-1.100669</td>\n",
       "      <td>-1.592395</td>\n",
       "      <td>-0.843735</td>\n",
       "      <td>-0.668912</td>\n",
       "      <td>0.349414</td>\n",
       "      <td>-0.910898</td>\n",
       "      <td>-0.550785</td>\n",
       "      <td>0.281720</td>\n",
       "      <td>-0.28014</td>\n",
       "      <td>-0.283830</td>\n",
       "      <td>-0.28014</td>\n",
       "      <td>-0.262111</td>\n",
       "      <td>-0.11651</td>\n",
       "      <td>-0.097282</td>\n",
       "      <td>-0.350059</td>\n",
       "      <td>1.396361</td>\n",
       "      <td>1.420036</td>\n",
       "      <td>0.742460</td>\n",
       "    </tr>\n",
       "    <tr>\n",
       "      <th>1607</th>\n",
       "      <td>-0.427121</td>\n",
       "      <td>-0.038962</td>\n",
       "      <td>-0.729016</td>\n",
       "      <td>0.113111</td>\n",
       "      <td>0.279396</td>\n",
       "      <td>1.384715</td>\n",
       "      <td>0.799996</td>\n",
       "      <td>-0.550785</td>\n",
       "      <td>1.518271</td>\n",
       "      <td>3.56964</td>\n",
       "      <td>-0.283830</td>\n",
       "      <td>-0.28014</td>\n",
       "      <td>-0.262111</td>\n",
       "      <td>-0.11651</td>\n",
       "      <td>-0.097282</td>\n",
       "      <td>-1.768926</td>\n",
       "      <td>0.065928</td>\n",
       "      <td>-0.041094</td>\n",
       "      <td>-1.346874</td>\n",
       "    </tr>\n",
       "    <tr>\n",
       "      <th>...</th>\n",
       "      <td>...</td>\n",
       "      <td>...</td>\n",
       "      <td>...</td>\n",
       "      <td>...</td>\n",
       "      <td>...</td>\n",
       "      <td>...</td>\n",
       "      <td>...</td>\n",
       "      <td>...</td>\n",
       "      <td>...</td>\n",
       "      <td>...</td>\n",
       "      <td>...</td>\n",
       "      <td>...</td>\n",
       "      <td>...</td>\n",
       "      <td>...</td>\n",
       "      <td>...</td>\n",
       "      <td>...</td>\n",
       "      <td>...</td>\n",
       "      <td>...</td>\n",
       "      <td>...</td>\n",
       "    </tr>\n",
       "    <tr>\n",
       "      <th>918</th>\n",
       "      <td>-0.427121</td>\n",
       "      <td>-0.383794</td>\n",
       "      <td>-0.659946</td>\n",
       "      <td>-0.439602</td>\n",
       "      <td>-0.491658</td>\n",
       "      <td>-0.168236</td>\n",
       "      <td>-0.226541</td>\n",
       "      <td>0.372226</td>\n",
       "      <td>-0.954831</td>\n",
       "      <td>-0.28014</td>\n",
       "      <td>-0.283830</td>\n",
       "      <td>-0.28014</td>\n",
       "      <td>-0.262111</td>\n",
       "      <td>-0.11651</td>\n",
       "      <td>-0.097282</td>\n",
       "      <td>1.235733</td>\n",
       "      <td>0.065928</td>\n",
       "      <td>-0.041094</td>\n",
       "      <td>-1.346874</td>\n",
       "    </tr>\n",
       "    <tr>\n",
       "      <th>2038</th>\n",
       "      <td>-0.427121</td>\n",
       "      <td>-0.540471</td>\n",
       "      <td>1.653911</td>\n",
       "      <td>-0.870479</td>\n",
       "      <td>-0.580285</td>\n",
       "      <td>-0.685887</td>\n",
       "      <td>-0.910898</td>\n",
       "      <td>-0.858455</td>\n",
       "      <td>0.693904</td>\n",
       "      <td>-0.28014</td>\n",
       "      <td>-0.283830</td>\n",
       "      <td>-0.28014</td>\n",
       "      <td>-0.262111</td>\n",
       "      <td>-0.11651</td>\n",
       "      <td>-0.097282</td>\n",
       "      <td>-1.268149</td>\n",
       "      <td>0.065928</td>\n",
       "      <td>-0.041094</td>\n",
       "      <td>0.742460</td>\n",
       "    </tr>\n",
       "    <tr>\n",
       "      <th>2087</th>\n",
       "      <td>-0.427121</td>\n",
       "      <td>1.101023</td>\n",
       "      <td>-1.488790</td>\n",
       "      <td>1.578096</td>\n",
       "      <td>0.944099</td>\n",
       "      <td>-0.685887</td>\n",
       "      <td>2.168711</td>\n",
       "      <td>0.372226</td>\n",
       "      <td>-1.367014</td>\n",
       "      <td>-0.28014</td>\n",
       "      <td>3.523233</td>\n",
       "      <td>-0.28014</td>\n",
       "      <td>-0.262111</td>\n",
       "      <td>-0.11651</td>\n",
       "      <td>-0.097282</td>\n",
       "      <td>0.818419</td>\n",
       "      <td>0.065928</td>\n",
       "      <td>1.420036</td>\n",
       "      <td>0.742460</td>\n",
       "    </tr>\n",
       "    <tr>\n",
       "      <th>932</th>\n",
       "      <td>1.787581</td>\n",
       "      <td>0.507631</td>\n",
       "      <td>-0.694481</td>\n",
       "      <td>1.530550</td>\n",
       "      <td>-0.420756</td>\n",
       "      <td>-0.168236</td>\n",
       "      <td>-0.226541</td>\n",
       "      <td>1.295237</td>\n",
       "      <td>0.693904</td>\n",
       "      <td>-0.28014</td>\n",
       "      <td>3.523233</td>\n",
       "      <td>-0.28014</td>\n",
       "      <td>-0.262111</td>\n",
       "      <td>-0.11651</td>\n",
       "      <td>-0.097282</td>\n",
       "      <td>1.486121</td>\n",
       "      <td>0.065928</td>\n",
       "      <td>-1.502225</td>\n",
       "      <td>-1.346874</td>\n",
       "    </tr>\n",
       "    <tr>\n",
       "      <th>952</th>\n",
       "      <td>-0.427121</td>\n",
       "      <td>-0.326183</td>\n",
       "      <td>-1.005297</td>\n",
       "      <td>-0.668413</td>\n",
       "      <td>-0.482795</td>\n",
       "      <td>0.867064</td>\n",
       "      <td>-0.568720</td>\n",
       "      <td>-0.550785</td>\n",
       "      <td>0.281720</td>\n",
       "      <td>-0.28014</td>\n",
       "      <td>-0.283830</td>\n",
       "      <td>-0.28014</td>\n",
       "      <td>-0.262111</td>\n",
       "      <td>-0.11651</td>\n",
       "      <td>-0.097282</td>\n",
       "      <td>-0.350059</td>\n",
       "      <td>1.396361</td>\n",
       "      <td>-0.041094</td>\n",
       "      <td>-1.346874</td>\n",
       "    </tr>\n",
       "  </tbody>\n",
       "</table>\n",
       "<p>672 rows × 19 columns</p>\n",
       "</div>"
      ],
      "text/plain": [
       "      Education    Income   Recency  MntWines  MntMeatProducts  \\\n",
       "358   -0.427121  0.512538  0.548785  0.965952         0.044535   \n",
       "1547  -0.427121 -0.847561  0.030758 -0.751617        -0.518246   \n",
       "1061  -0.427121  0.517446 -0.521805  1.304711         0.062260   \n",
       "1419  -0.427121 -1.100669 -1.592395 -0.843735        -0.668912   \n",
       "1607  -0.427121 -0.038962 -0.729016  0.113111         0.279396   \n",
       "...         ...       ...       ...       ...              ...   \n",
       "918   -0.427121 -0.383794 -0.659946 -0.439602        -0.491658   \n",
       "2038  -0.427121 -0.540471  1.653911 -0.870479        -0.580285   \n",
       "2087  -0.427121  1.101023 -1.488790  1.578096         0.944099   \n",
       "932    1.787581  0.507631 -0.694481  1.530550        -0.420756   \n",
       "952   -0.427121 -0.326183 -1.005297 -0.668413        -0.482795   \n",
       "\n",
       "      NumDealsPurchases  NumCatalogPurchases  NumStorePurchases  \\\n",
       "358           -0.685887             0.115638          -0.243114   \n",
       "1547          -0.685887            -0.910898          -0.858455   \n",
       "1061          -0.168236             1.142175           1.602907   \n",
       "1419           0.349414            -0.910898          -0.550785   \n",
       "1607           1.384715             0.799996          -0.550785   \n",
       "...                 ...                  ...                ...   \n",
       "918           -0.168236            -0.226541           0.372226   \n",
       "2038          -0.685887            -0.910898          -0.858455   \n",
       "2087          -0.685887             2.168711           0.372226   \n",
       "932           -0.168236            -0.226541           1.295237   \n",
       "952            0.867064            -0.568720          -0.550785   \n",
       "\n",
       "      NumWebVisitsMonth  AcceptedCmp3  AcceptedCmp4  AcceptedCmp5  \\\n",
       "358           -1.367014      -0.28014     -0.283830      -0.28014   \n",
       "1547           1.106087      -0.28014     -0.283830      -0.28014   \n",
       "1061          -0.130463       3.56964     -0.283830      -0.28014   \n",
       "1419           0.281720      -0.28014     -0.283830      -0.28014   \n",
       "1607           1.518271       3.56964     -0.283830      -0.28014   \n",
       "...                 ...           ...           ...           ...   \n",
       "918           -0.954831      -0.28014     -0.283830      -0.28014   \n",
       "2038           0.693904      -0.28014     -0.283830      -0.28014   \n",
       "2087          -1.367014      -0.28014      3.523233      -0.28014   \n",
       "932            0.693904      -0.28014      3.523233      -0.28014   \n",
       "952            0.281720      -0.28014     -0.283830      -0.28014   \n",
       "\n",
       "      AcceptedCmp1  AcceptedCmp2   Complain       Age  Children  JoiningYear  \\\n",
       "358      -0.262111      -0.11651  10.279429  2.153823 -1.264505    -0.041094   \n",
       "1547     -0.262111      -0.11651  -0.097282  0.484568 -1.264505    -1.502225   \n",
       "1061     -0.262111      -0.11651  -0.097282  0.901882  1.396361    -0.041094   \n",
       "1419     -0.262111      -0.11651  -0.097282 -0.350059  1.396361     1.420036   \n",
       "1607     -0.262111      -0.11651  -0.097282 -1.768926  0.065928    -0.041094   \n",
       "...            ...           ...        ...       ...       ...          ...   \n",
       "918      -0.262111      -0.11651  -0.097282  1.235733  0.065928    -0.041094   \n",
       "2038     -0.262111      -0.11651  -0.097282 -1.268149  0.065928    -0.041094   \n",
       "2087     -0.262111      -0.11651  -0.097282  0.818419  0.065928     1.420036   \n",
       "932      -0.262111      -0.11651  -0.097282  1.486121  0.065928    -1.502225   \n",
       "952      -0.262111      -0.11651  -0.097282 -0.350059  1.396361    -0.041094   \n",
       "\n",
       "      MaritalStatus_Spousal relationship  \n",
       "358                             0.742460  \n",
       "1547                           -1.346874  \n",
       "1061                            0.742460  \n",
       "1419                            0.742460  \n",
       "1607                           -1.346874  \n",
       "...                                  ...  \n",
       "918                            -1.346874  \n",
       "2038                            0.742460  \n",
       "2087                            0.742460  \n",
       "932                            -1.346874  \n",
       "952                            -1.346874  \n",
       "\n",
       "[672 rows x 19 columns]"
      ]
     },
     "execution_count": 292,
     "metadata": {},
     "output_type": "execute_result"
    }
   ],
   "source": [
    "X_test[X_train_fs.columns]"
   ]
  },
  {
   "cell_type": "code",
   "execution_count": 294,
   "id": "018ed37d",
   "metadata": {},
   "outputs": [],
   "source": [
    "cat_pred = logit_reg.predict(X_test[X_train_fs.columns])"
   ]
  },
  {
   "cell_type": "code",
   "execution_count": 295,
   "id": "342ea9d4",
   "metadata": {},
   "outputs": [],
   "source": [
    "from sklearn.metrics import classification_report, confusion_matrix"
   ]
  },
  {
   "cell_type": "code",
   "execution_count": 296,
   "id": "21b14dcf",
   "metadata": {},
   "outputs": [
    {
     "name": "stdout",
     "output_type": "stream",
     "text": [
      "Confusion Matrix::\n",
      "\n",
      "\n",
      "[[437 142]\n",
      " [ 13  80]]\n",
      "\n",
      "\n",
      "Classification Report::\n",
      "\n",
      "\n",
      "              precision    recall  f1-score   support\n",
      "\n",
      "           0       0.97      0.75      0.85       579\n",
      "           1       0.36      0.86      0.51        93\n",
      "\n",
      "    accuracy                           0.77       672\n",
      "   macro avg       0.67      0.81      0.68       672\n",
      "weighted avg       0.89      0.77      0.80       672\n",
      "\n"
     ]
    }
   ],
   "source": [
    "print('Confusion Matrix::')\n",
    "print('\\n')\n",
    "print(confusion_matrix(y_test,cat_pred))\n",
    "print('\\n')\n",
    "print('Classification Report::')\n",
    "print('\\n')\n",
    "print(classification_report(y_test,cat_pred))"
   ]
  },
  {
   "cell_type": "code",
   "execution_count": 297,
   "id": "40b0a953",
   "metadata": {},
   "outputs": [
    {
     "data": {
      "text/plain": [
       "0.7693452380952381"
      ]
     },
     "execution_count": 297,
     "metadata": {},
     "output_type": "execute_result"
    }
   ],
   "source": [
    "logit_reg.score(X_test[X_train_fs.columns],y_test)"
   ]
  },
  {
   "cell_type": "code",
   "execution_count": 300,
   "id": "67a254b8",
   "metadata": {},
   "outputs": [
    {
     "data": {
      "image/png": "[encoded data removed]",
      "text/plain": [
       "<Figure size 720x432 with 2 Axes>"
      ]
     },
     "metadata": {
      "needs_background": "light"
     },
     "output_type": "display_data"
    }
   ],
   "source": [
    "plt.figure(figsize=(10,6))\n",
    "fx=sns.heatmap(confusion_matrix(y_test,cat_pred), annot=True, fmt=\".2f\",cmap=\"GnBu\")\n",
    "fx.set_title('Confusion Matrix: Logistic Regression \\n');\n",
    "fx.set_xlabel('\\n Predicted Values\\n')\n",
    "fx.set_ylabel('Actual Values\\n');\n",
    "fx.xaxis.set_ticklabels(['Offer Accepted','Offer Not Accepted'])\n",
    "fx.yaxis.set_ticklabels(['Offer Accepted','Offer Not Accepted'])\n",
    "plt.show()"
   ]
  },
  {
   "cell_type": "code",
   "execution_count": 199,
   "id": "00bb41b5",
   "metadata": {},
   "outputs": [],
   "source": [
    "from sklearn.metrics import roc_auc_score,roc_curve"
   ]
  },
  {
   "cell_type": "code",
   "execution_count": 200,
   "id": "26d0153c",
   "metadata": {},
   "outputs": [],
   "source": [
    "pred_prob = logit_reg.predict_proba(X_test[X_train_fs.columns])"
   ]
  },
  {
   "cell_type": "code",
   "execution_count": 201,
   "id": "8ea65b4b",
   "metadata": {},
   "outputs": [],
   "source": [
    "fpr1, tpr1, thresh1 = roc_curve(y_test, pred_prob[:,1], pos_label=1)"
   ]
  },
  {
   "cell_type": "code",
   "execution_count": 202,
   "id": "558f8865",
   "metadata": {},
   "outputs": [],
   "source": [
    "random_probs = [0 for i in range(len(y_test))]\n",
    "p_fpr, p_tpr, _ = roc_curve(y_test, random_probs, pos_label=1)"
   ]
  },
  {
   "cell_type": "code",
   "execution_count": 203,
   "id": "eb2485a6",
   "metadata": {},
   "outputs": [
    {
     "data": {
      "text/plain": [
       "0.8655755730356085"
      ]
     },
     "execution_count": 203,
     "metadata": {},
     "output_type": "execute_result"
    }
   ],
   "source": [
    "auc_score = roc_auc_score(y_test, pred_prob[:,1])\n",
    "auc_score"
   ]
  },
  {
   "cell_type": "code",
   "execution_count": 204,
   "id": "6fe0bf3f",
   "metadata": {},
   "outputs": [
    {
     "data": {
      "image/png": "[encoded data removed]",
      "text/plain": [
       "<Figure size 432x288 with 1 Axes>"
      ]
     },
     "metadata": {
      "needs_background": "light"
     },
     "output_type": "display_data"
    }
   ],
   "source": [
    "# roc curves\n",
    "plt.plot(fpr1, tpr1, linestyle='--',color='orange', label='Logit')\n",
    "plt.plot(p_fpr, p_tpr, linestyle='--', color='blue')\n",
    "plt.title('ROC curve')\n",
    "plt.xlabel('False Positive Rate - FPR')\n",
    "plt.ylabel('True Positive rate - TPR')\n",
    "plt.legend(loc='best')\n",
    "plt.savefig('ROC',dpi=300)"
   ]
  },
  {
   "cell_type": "markdown",
   "id": "9448e043",
   "metadata": {},
   "source": [
    "# Support Vector Machine"
   ]
  },
  {
   "cell_type": "code",
   "execution_count": 301,
   "id": "20c4c196",
   "metadata": {},
   "outputs": [],
   "source": [
    "from sklearn.svm import SVC"
   ]
  },
  {
   "cell_type": "code",
   "execution_count": 302,
   "id": "b9e1a031",
   "metadata": {},
   "outputs": [],
   "source": [
    "sfs_md_svm = SFS(SVC(kernel='linear',gamma='scale',degree=2,random_state=369),\n",
    "          k_features=(10,20),\n",
    "          forward=True,\n",
    "          floating=True,\n",
    "          scoring = 'accuracy',\n",
    "          cv = 5)"
   ]
  },
  {
   "cell_type": "code",
   "execution_count": 303,
   "id": "7fe093c7",
   "metadata": {
    "scrolled": false
   },
   "outputs": [
    {
     "data": {
      "text/html": [
       "<style>#sk-container-id-26 {color: black;background-color: white;}#sk-container-id-26 pre{padding: 0;}#sk-container-id-26 div.sk-toggleable {background-color: white;}#sk-container-id-26 label.sk-toggleable__label {cursor: pointer;display: block;width: 100%;margin-bottom: 0;padding: 0.3em;box-sizing: border-box;text-align: center;}#sk-container-id-26 label.sk-toggleable__label-arrow:before {content: \"▸\";float: left;margin-right: 0.25em;color: #696969;}#sk-container-id-26 label.sk-toggleable__label-arrow:hover:before {color: black;}#sk-container-id-26 div.sk-estimator:hover label.sk-toggleable__label-arrow:before {color: black;}#sk-container-id-26 div.sk-toggleable__content {max-height: 0;max-width: 0;overflow: hidden;text-align: left;background-color: #f0f8ff;}#sk-container-id-26 div.sk-toggleable__content pre {margin: 0.2em;color: black;border-radius: 0.25em;background-color: #f0f8ff;}#sk-container-id-26 input.sk-toggleable__control:checked~div.sk-toggleable__content {max-height: 200px;max-width: 100%;overflow: auto;}#sk-container-id-26 input.sk-toggleable__control:checked~label.sk-toggleable__label-arrow:before {content: \"▾\";}#sk-container-id-26 div.sk-estimator input.sk-toggleable__control:checked~label.sk-toggleable__label {background-color: #d4ebff;}#sk-container-id-26 div.sk-label input.sk-toggleable__control:checked~label.sk-toggleable__label {background-color: #d4ebff;}#sk-container-id-26 input.sk-hidden--visually {border: 0;clip: rect(1px 1px 1px 1px);clip: rect(1px, 1px, 1px, 1px);height: 1px;margin: -1px;overflow: hidden;padding: 0;position: absolute;width: 1px;}#sk-container-id-26 div.sk-estimator {font-family: monospace;background-color: #f0f8ff;border: 1px dotted black;border-radius: 0.25em;box-sizing: border-box;margin-bottom: 0.5em;}#sk-container-id-26 div.sk-estimator:hover {background-color: #d4ebff;}#sk-container-id-26 div.sk-parallel-item::after {content: \"\";width: 100%;border-bottom: 1px solid gray;flex-grow: 1;}#sk-container-id-26 div.sk-label:hover label.sk-toggleable__label {background-color: #d4ebff;}#sk-container-id-26 div.sk-serial::before {content: \"\";position: absolute;border-left: 1px solid gray;box-sizing: border-box;top: 0;bottom: 0;left: 50%;z-index: 0;}#sk-container-id-26 div.sk-serial {display: flex;flex-direction: column;align-items: center;background-color: white;padding-right: 0.2em;padding-left: 0.2em;position: relative;}#sk-container-id-26 div.sk-item {position: relative;z-index: 1;}#sk-container-id-26 div.sk-parallel {display: flex;align-items: stretch;justify-content: center;background-color: white;position: relative;}#sk-container-id-26 div.sk-item::before, #sk-container-id-26 div.sk-parallel-item::before {content: \"\";position: absolute;border-left: 1px solid gray;box-sizing: border-box;top: 0;bottom: 0;left: 50%;z-index: -1;}#sk-container-id-26 div.sk-parallel-item {display: flex;flex-direction: column;z-index: 1;position: relative;background-color: white;}#sk-container-id-26 div.sk-parallel-item:first-child::after {align-self: flex-end;width: 50%;}#sk-container-id-26 div.sk-parallel-item:last-child::after {align-self: flex-start;width: 50%;}#sk-container-id-26 div.sk-parallel-item:only-child::after {width: 0;}#sk-container-id-26 div.sk-dashed-wrapped {border: 1px dashed gray;margin: 0 0.4em 0.5em 0.4em;box-sizing: border-box;padding-bottom: 0.4em;background-color: white;}#sk-container-id-26 div.sk-label label {font-family: monospace;font-weight: bold;display: inline-block;line-height: 1.2em;}#sk-container-id-26 div.sk-label-container {text-align: center;}#sk-container-id-26 div.sk-container {/* jupyter's `normalize.less` sets `[hidden] { display: none; }` but bootstrap.min.css set `[hidden] { display: none !important; }` so we also need the `!important` here to be able to override the default hidden behavior on the sphinx rendered scikit-learn.org. See: https://github.com/scikit-learn/scikit-learn/issues/21755 */display: inline-block !important;position: relative;}#sk-container-id-26 div.sk-text-repr-fallback {display: none;}</style><div id=\"sk-container-id-26\" class=\"sk-top-container\"><div class=\"sk-text-repr-fallback\"><pre>SequentialFeatureSelector(estimator=SVC(degree=2, kernel=&#x27;linear&#x27;,\n",
       "                                        random_state=369),\n",
       "                          floating=True, k_features=(10, 20),\n",
       "                          scoring=&#x27;accuracy&#x27;)</pre><b>In a Jupyter environment, please rerun this cell to show the HTML representation or trust the notebook. <br />On GitHub, the HTML representation is unable to render, please try loading this page with nbviewer.org.</b></div><div class=\"sk-container\" hidden><div class=\"sk-item sk-dashed-wrapped\"><div class=\"sk-label-container\"><div class=\"sk-label sk-toggleable\"><input class=\"sk-toggleable__control sk-hidden--visually\" id=\"sk-estimator-id-52\" type=\"checkbox\" ><label for=\"sk-estimator-id-52\" class=\"sk-toggleable__label sk-toggleable__label-arrow\">SequentialFeatureSelector</label><div class=\"sk-toggleable__content\"><pre>SequentialFeatureSelector(estimator=SVC(degree=2, kernel=&#x27;linear&#x27;,\n",
       "                                        random_state=369),\n",
       "                          floating=True, k_features=(10, 20),\n",
       "                          scoring=&#x27;accuracy&#x27;)</pre></div></div></div><div class=\"sk-parallel\"><div class=\"sk-parallel-item\"><div class=\"sk-item\"><div class=\"sk-label-container\"><div class=\"sk-label sk-toggleable\"><input class=\"sk-toggleable__control sk-hidden--visually\" id=\"sk-estimator-id-53\" type=\"checkbox\" ><label for=\"sk-estimator-id-53\" class=\"sk-toggleable__label sk-toggleable__label-arrow\">estimator: SVC</label><div class=\"sk-toggleable__content\"><pre>SVC(degree=2, kernel=&#x27;linear&#x27;, random_state=369)</pre></div></div></div><div class=\"sk-serial\"><div class=\"sk-item\"><div class=\"sk-estimator sk-toggleable\"><input class=\"sk-toggleable__control sk-hidden--visually\" id=\"sk-estimator-id-54\" type=\"checkbox\" ><label for=\"sk-estimator-id-54\" class=\"sk-toggleable__label sk-toggleable__label-arrow\">SVC</label><div class=\"sk-toggleable__content\"><pre>SVC(degree=2, kernel=&#x27;linear&#x27;, random_state=369)</pre></div></div></div></div></div></div></div></div></div></div>"
      ],
      "text/plain": [
       "SequentialFeatureSelector(estimator=SVC(degree=2, kernel='linear',\n",
       "                                        random_state=369),\n",
       "                          floating=True, k_features=(10, 20),\n",
       "                          scoring='accuracy')"
      ]
     },
     "execution_count": 303,
     "metadata": {},
     "output_type": "execute_result"
    }
   ],
   "source": [
    "sfs_md_svm.fit(X_train_res,y_train_res)"
   ]
  },
  {
   "cell_type": "code",
   "execution_count": 304,
   "id": "b618dde7",
   "metadata": {
    "scrolled": true
   },
   "outputs": [
    {
     "data": {
      "text/plain": [
       "('Education',\n",
       " 'Recency',\n",
       " 'MntWines',\n",
       " 'MntMeatProducts',\n",
       " 'MntFishProducts',\n",
       " 'MntSweetProducts',\n",
       " 'MntGoldProds',\n",
       " 'NumDealsPurchases',\n",
       " 'NumCatalogPurchases',\n",
       " 'NumStorePurchases',\n",
       " 'NumWebVisitsMonth',\n",
       " 'AcceptedCmp3',\n",
       " 'AcceptedCmp4',\n",
       " 'AcceptedCmp5',\n",
       " 'AcceptedCmp1',\n",
       " 'AcceptedCmp2',\n",
       " 'Complain',\n",
       " 'Age',\n",
       " 'JoiningYear',\n",
       " 'MaritalStatus_Spousal relationship')"
      ]
     },
     "execution_count": 304,
     "metadata": {},
     "output_type": "execute_result"
    }
   ],
   "source": [
    "sfs_md_svm.k_feature_names_"
   ]
  },
  {
   "cell_type": "code",
   "execution_count": 305,
   "id": "02765c6b",
   "metadata": {},
   "outputs": [
    {
     "data": {
      "text/html": [
       "<div>\n",
       "<style scoped>\n",
       "    .dataframe tbody tr th:only-of-type {\n",
       "        vertical-align: middle;\n",
       "    }\n",
       "\n",
       "    .dataframe tbody tr th {\n",
       "        vertical-align: top;\n",
       "    }\n",
       "\n",
       "    .dataframe thead th {\n",
       "        text-align: right;\n",
       "    }\n",
       "</style>\n",
       "<table border=\"1\" class=\"dataframe\">\n",
       "  <thead>\n",
       "    <tr style=\"text-align: right;\">\n",
       "      <th></th>\n",
       "      <th>feature_idx</th>\n",
       "      <th>cv_scores</th>\n",
       "      <th>avg_score</th>\n",
       "      <th>feature_names</th>\n",
       "      <th>ci_bound</th>\n",
       "      <th>std_dev</th>\n",
       "      <th>std_err</th>\n",
       "    </tr>\n",
       "  </thead>\n",
       "  <tbody>\n",
       "    <tr>\n",
       "      <th>1</th>\n",
       "      <td>(3,)</td>\n",
       "      <td>[0.6561797752808989, 0.6651685393258427, 0.653...</td>\n",
       "      <td>0.662017</td>\n",
       "      <td>(MntWines,)</td>\n",
       "      <td>0.008372</td>\n",
       "      <td>0.006513</td>\n",
       "      <td>0.003257</td>\n",
       "    </tr>\n",
       "    <tr>\n",
       "      <th>2</th>\n",
       "      <td>(2, 3)</td>\n",
       "      <td>[0.7438202247191011, 0.7640449438202247, 0.752...</td>\n",
       "      <td>0.746618</td>\n",
       "      <td>(Recency, MntWines)</td>\n",
       "      <td>0.013463</td>\n",
       "      <td>0.010474</td>\n",
       "      <td>0.005237</td>\n",
       "    </tr>\n",
       "    <tr>\n",
       "      <th>3</th>\n",
       "      <td>(2, 3, 22)</td>\n",
       "      <td>[0.7752808988764045, 0.8089887640449438, 0.774...</td>\n",
       "      <td>0.790277</td>\n",
       "      <td>(Recency, MntWines, JoiningYear)</td>\n",
       "      <td>0.017122</td>\n",
       "      <td>0.013322</td>\n",
       "      <td>0.006661</td>\n",
       "    </tr>\n",
       "    <tr>\n",
       "      <th>4</th>\n",
       "      <td>(2, 3, 14, 22)</td>\n",
       "      <td>[0.7910112359550562, 0.8247191011235955, 0.799...</td>\n",
       "      <td>0.813687</td>\n",
       "      <td>(Recency, MntWines, AcceptedCmp3, JoiningYear)</td>\n",
       "      <td>0.020398</td>\n",
       "      <td>0.01587</td>\n",
       "      <td>0.007935</td>\n",
       "    </tr>\n",
       "    <tr>\n",
       "      <th>5</th>\n",
       "      <td>(2, 3, 14, 22, 23)</td>\n",
       "      <td>[0.8292134831460675, 0.8629213483146068, 0.801...</td>\n",
       "      <td>0.830319</td>\n",
       "      <td>(Recency, MntWines, AcceptedCmp3, JoiningYear,...</td>\n",
       "      <td>0.027247</td>\n",
       "      <td>0.021199</td>\n",
       "      <td>0.0106</td>\n",
       "    </tr>\n",
       "    <tr>\n",
       "      <th>6</th>\n",
       "      <td>(0, 2, 3, 14, 22, 23)</td>\n",
       "      <td>[0.8426966292134831, 0.8674157303370786, 0.824...</td>\n",
       "      <td>0.844725</td>\n",
       "      <td>(Education, Recency, MntWines, AcceptedCmp3, J...</td>\n",
       "      <td>0.020728</td>\n",
       "      <td>0.016127</td>\n",
       "      <td>0.008064</td>\n",
       "    </tr>\n",
       "    <tr>\n",
       "      <th>7</th>\n",
       "      <td>(0, 2, 3, 9, 14, 22, 23)</td>\n",
       "      <td>[0.849438202247191, 0.8696629213483146, 0.8220...</td>\n",
       "      <td>0.848775</td>\n",
       "      <td>(Education, Recency, MntWines, NumDealsPurchas...</td>\n",
       "      <td>0.022471</td>\n",
       "      <td>0.017483</td>\n",
       "      <td>0.008742</td>\n",
       "    </tr>\n",
       "    <tr>\n",
       "      <th>8</th>\n",
       "      <td>(0, 2, 3, 9, 14, 16, 22, 23)</td>\n",
       "      <td>[0.8449438202247191, 0.8741573033707866, 0.826...</td>\n",
       "      <td>0.856883</td>\n",
       "      <td>(Education, Recency, MntWines, NumDealsPurchas...</td>\n",
       "      <td>0.024132</td>\n",
       "      <td>0.018775</td>\n",
       "      <td>0.009388</td>\n",
       "    </tr>\n",
       "    <tr>\n",
       "      <th>9</th>\n",
       "      <td>(0, 2, 3, 9, 14, 16, 17, 22, 23)</td>\n",
       "      <td>[0.8471910112359551, 0.8921348314606742, 0.844...</td>\n",
       "      <td>0.865883</td>\n",
       "      <td>(Education, Recency, MntWines, NumDealsPurchas...</td>\n",
       "      <td>0.023344</td>\n",
       "      <td>0.018163</td>\n",
       "      <td>0.009081</td>\n",
       "    </tr>\n",
       "    <tr>\n",
       "      <th>10</th>\n",
       "      <td>(0, 2, 3, 4, 9, 14, 16, 17, 22, 23)</td>\n",
       "      <td>[0.8561797752808988, 0.8943820224719101, 0.860...</td>\n",
       "      <td>0.872184</td>\n",
       "      <td>(Education, Recency, MntWines, MntFruits, NumD...</td>\n",
       "      <td>0.018437</td>\n",
       "      <td>0.014345</td>\n",
       "      <td>0.007172</td>\n",
       "    </tr>\n",
       "    <tr>\n",
       "      <th>11</th>\n",
       "      <td>(0, 2, 3, 4, 9, 14, 16, 17, 18, 22, 23)</td>\n",
       "      <td>[0.8606741573033708, 0.903370786516854, 0.8648...</td>\n",
       "      <td>0.876232</td>\n",
       "      <td>(Education, Recency, MntWines, MntFruits, NumD...</td>\n",
       "      <td>0.021209</td>\n",
       "      <td>0.016501</td>\n",
       "      <td>0.008251</td>\n",
       "    </tr>\n",
       "    <tr>\n",
       "      <th>12</th>\n",
       "      <td>(0, 2, 3, 4, 8, 9, 14, 16, 17, 18, 22, 23)</td>\n",
       "      <td>[0.8629213483146068, 0.9056179775280899, 0.869...</td>\n",
       "      <td>0.878032</td>\n",
       "      <td>(Education, Recency, MntWines, MntFruits, MntG...</td>\n",
       "      <td>0.020191</td>\n",
       "      <td>0.01571</td>\n",
       "      <td>0.007855</td>\n",
       "    </tr>\n",
       "    <tr>\n",
       "      <th>13</th>\n",
       "      <td>(0, 2, 5, 7, 8, 9, 14, 16, 17, 18, 19, 22, 23)</td>\n",
       "      <td>[0.8606741573033708, 0.9101123595505618, 0.862...</td>\n",
       "      <td>0.879833</td>\n",
       "      <td>(Education, Recency, MntMeatProducts, MntSweet...</td>\n",
       "      <td>0.023275</td>\n",
       "      <td>0.018109</td>\n",
       "      <td>0.009054</td>\n",
       "    </tr>\n",
       "    <tr>\n",
       "      <th>14</th>\n",
       "      <td>(0, 2, 5, 6, 9, 12, 13, 14, 16, 17, 18, 20, 22...</td>\n",
       "      <td>[0.8606741573033708, 0.9258426966292135, 0.880...</td>\n",
       "      <td>0.887484</td>\n",
       "      <td>(Education, Recency, MntMeatProducts, MntFishP...</td>\n",
       "      <td>0.027802</td>\n",
       "      <td>0.021631</td>\n",
       "      <td>0.010815</td>\n",
       "    </tr>\n",
       "    <tr>\n",
       "      <th>15</th>\n",
       "      <td>(0, 2, 5, 6, 7, 9, 12, 13, 14, 16, 17, 18, 20,...</td>\n",
       "      <td>[0.8606741573033708, 0.9258426966292135, 0.878...</td>\n",
       "      <td>0.887934</td>\n",
       "      <td>(Education, Recency, MntMeatProducts, MntFishP...</td>\n",
       "      <td>0.027642</td>\n",
       "      <td>0.021507</td>\n",
       "      <td>0.010753</td>\n",
       "    </tr>\n",
       "    <tr>\n",
       "      <th>16</th>\n",
       "      <td>(0, 2, 5, 6, 7, 9, 11, 12, 13, 14, 16, 17, 18,...</td>\n",
       "      <td>[0.8674157303370786, 0.9280898876404494, 0.880...</td>\n",
       "      <td>0.890633</td>\n",
       "      <td>(Education, Recency, MntMeatProducts, MntFishP...</td>\n",
       "      <td>0.026177</td>\n",
       "      <td>0.020366</td>\n",
       "      <td>0.010183</td>\n",
       "    </tr>\n",
       "    <tr>\n",
       "      <th>17</th>\n",
       "      <td>(0, 2, 5, 6, 7, 9, 11, 12, 13, 14, 15, 16, 17,...</td>\n",
       "      <td>[0.8719101123595505, 0.9393258426966292, 0.876...</td>\n",
       "      <td>0.892427</td>\n",
       "      <td>(Education, Recency, MntMeatProducts, MntFishP...</td>\n",
       "      <td>0.032468</td>\n",
       "      <td>0.025261</td>\n",
       "      <td>0.01263</td>\n",
       "    </tr>\n",
       "    <tr>\n",
       "      <th>18</th>\n",
       "      <td>(0, 2, 3, 5, 6, 7, 9, 11, 12, 13, 14, 15, 16, ...</td>\n",
       "      <td>[0.8764044943820225, 0.9325842696629213, 0.876...</td>\n",
       "      <td>0.89423</td>\n",
       "      <td>(Education, Recency, MntWines, MntMeatProducts...</td>\n",
       "      <td>0.026605</td>\n",
       "      <td>0.020699</td>\n",
       "      <td>0.01035</td>\n",
       "    </tr>\n",
       "    <tr>\n",
       "      <th>19</th>\n",
       "      <td>(0, 2, 3, 5, 6, 7, 8, 9, 11, 12, 13, 14, 15, 1...</td>\n",
       "      <td>[0.8786516853932584, 0.9393258426966292, 0.882...</td>\n",
       "      <td>0.896028</td>\n",
       "      <td>(Education, Recency, MntWines, MntMeatProducts...</td>\n",
       "      <td>0.029272</td>\n",
       "      <td>0.022774</td>\n",
       "      <td>0.011387</td>\n",
       "    </tr>\n",
       "    <tr>\n",
       "      <th>20</th>\n",
       "      <td>(0, 2, 3, 5, 6, 7, 8, 9, 11, 12, 13, 14, 15, 1...</td>\n",
       "      <td>[0.8786516853932584, 0.9393258426966292, 0.882...</td>\n",
       "      <td>0.896478</td>\n",
       "      <td>(Education, Recency, MntWines, MntMeatProducts...</td>\n",
       "      <td>0.028901</td>\n",
       "      <td>0.022486</td>\n",
       "      <td>0.011243</td>\n",
       "    </tr>\n",
       "  </tbody>\n",
       "</table>\n",
       "</div>"
      ],
      "text/plain": [
       "                                          feature_idx  \\\n",
       "1                                                (3,)   \n",
       "2                                              (2, 3)   \n",
       "3                                          (2, 3, 22)   \n",
       "4                                      (2, 3, 14, 22)   \n",
       "5                                  (2, 3, 14, 22, 23)   \n",
       "6                               (0, 2, 3, 14, 22, 23)   \n",
       "7                            (0, 2, 3, 9, 14, 22, 23)   \n",
       "8                        (0, 2, 3, 9, 14, 16, 22, 23)   \n",
       "9                    (0, 2, 3, 9, 14, 16, 17, 22, 23)   \n",
       "10                (0, 2, 3, 4, 9, 14, 16, 17, 22, 23)   \n",
       "11            (0, 2, 3, 4, 9, 14, 16, 17, 18, 22, 23)   \n",
       "12         (0, 2, 3, 4, 8, 9, 14, 16, 17, 18, 22, 23)   \n",
       "13     (0, 2, 5, 7, 8, 9, 14, 16, 17, 18, 19, 22, 23)   \n",
       "14  (0, 2, 5, 6, 9, 12, 13, 14, 16, 17, 18, 20, 22...   \n",
       "15  (0, 2, 5, 6, 7, 9, 12, 13, 14, 16, 17, 18, 20,...   \n",
       "16  (0, 2, 5, 6, 7, 9, 11, 12, 13, 14, 16, 17, 18,...   \n",
       "17  (0, 2, 5, 6, 7, 9, 11, 12, 13, 14, 15, 16, 17,...   \n",
       "18  (0, 2, 3, 5, 6, 7, 9, 11, 12, 13, 14, 15, 16, ...   \n",
       "19  (0, 2, 3, 5, 6, 7, 8, 9, 11, 12, 13, 14, 15, 1...   \n",
       "20  (0, 2, 3, 5, 6, 7, 8, 9, 11, 12, 13, 14, 15, 1...   \n",
       "\n",
       "                                            cv_scores avg_score  \\\n",
       "1   [0.6561797752808989, 0.6651685393258427, 0.653...  0.662017   \n",
       "2   [0.7438202247191011, 0.7640449438202247, 0.752...  0.746618   \n",
       "3   [0.7752808988764045, 0.8089887640449438, 0.774...  0.790277   \n",
       "4   [0.7910112359550562, 0.8247191011235955, 0.799...  0.813687   \n",
       "5   [0.8292134831460675, 0.8629213483146068, 0.801...  0.830319   \n",
       "6   [0.8426966292134831, 0.8674157303370786, 0.824...  0.844725   \n",
       "7   [0.849438202247191, 0.8696629213483146, 0.8220...  0.848775   \n",
       "8   [0.8449438202247191, 0.8741573033707866, 0.826...  0.856883   \n",
       "9   [0.8471910112359551, 0.8921348314606742, 0.844...  0.865883   \n",
       "10  [0.8561797752808988, 0.8943820224719101, 0.860...  0.872184   \n",
       "11  [0.8606741573033708, 0.903370786516854, 0.8648...  0.876232   \n",
       "12  [0.8629213483146068, 0.9056179775280899, 0.869...  0.878032   \n",
       "13  [0.8606741573033708, 0.9101123595505618, 0.862...  0.879833   \n",
       "14  [0.8606741573033708, 0.9258426966292135, 0.880...  0.887484   \n",
       "15  [0.8606741573033708, 0.9258426966292135, 0.878...  0.887934   \n",
       "16  [0.8674157303370786, 0.9280898876404494, 0.880...  0.890633   \n",
       "17  [0.8719101123595505, 0.9393258426966292, 0.876...  0.892427   \n",
       "18  [0.8764044943820225, 0.9325842696629213, 0.876...   0.89423   \n",
       "19  [0.8786516853932584, 0.9393258426966292, 0.882...  0.896028   \n",
       "20  [0.8786516853932584, 0.9393258426966292, 0.882...  0.896478   \n",
       "\n",
       "                                        feature_names  ci_bound   std_dev  \\\n",
       "1                                         (MntWines,)  0.008372  0.006513   \n",
       "2                                 (Recency, MntWines)  0.013463  0.010474   \n",
       "3                    (Recency, MntWines, JoiningYear)  0.017122  0.013322   \n",
       "4      (Recency, MntWines, AcceptedCmp3, JoiningYear)  0.020398   0.01587   \n",
       "5   (Recency, MntWines, AcceptedCmp3, JoiningYear,...  0.027247  0.021199   \n",
       "6   (Education, Recency, MntWines, AcceptedCmp3, J...  0.020728  0.016127   \n",
       "7   (Education, Recency, MntWines, NumDealsPurchas...  0.022471  0.017483   \n",
       "8   (Education, Recency, MntWines, NumDealsPurchas...  0.024132  0.018775   \n",
       "9   (Education, Recency, MntWines, NumDealsPurchas...  0.023344  0.018163   \n",
       "10  (Education, Recency, MntWines, MntFruits, NumD...  0.018437  0.014345   \n",
       "11  (Education, Recency, MntWines, MntFruits, NumD...  0.021209  0.016501   \n",
       "12  (Education, Recency, MntWines, MntFruits, MntG...  0.020191   0.01571   \n",
       "13  (Education, Recency, MntMeatProducts, MntSweet...  0.023275  0.018109   \n",
       "14  (Education, Recency, MntMeatProducts, MntFishP...  0.027802  0.021631   \n",
       "15  (Education, Recency, MntMeatProducts, MntFishP...  0.027642  0.021507   \n",
       "16  (Education, Recency, MntMeatProducts, MntFishP...  0.026177  0.020366   \n",
       "17  (Education, Recency, MntMeatProducts, MntFishP...  0.032468  0.025261   \n",
       "18  (Education, Recency, MntWines, MntMeatProducts...  0.026605  0.020699   \n",
       "19  (Education, Recency, MntWines, MntMeatProducts...  0.029272  0.022774   \n",
       "20  (Education, Recency, MntWines, MntMeatProducts...  0.028901  0.022486   \n",
       "\n",
       "     std_err  \n",
       "1   0.003257  \n",
       "2   0.005237  \n",
       "3   0.006661  \n",
       "4   0.007935  \n",
       "5     0.0106  \n",
       "6   0.008064  \n",
       "7   0.008742  \n",
       "8   0.009388  \n",
       "9   0.009081  \n",
       "10  0.007172  \n",
       "11  0.008251  \n",
       "12  0.007855  \n",
       "13  0.009054  \n",
       "14  0.010815  \n",
       "15  0.010753  \n",
       "16  0.010183  \n",
       "17   0.01263  \n",
       "18   0.01035  \n",
       "19  0.011387  \n",
       "20  0.011243  "
      ]
     },
     "execution_count": 305,
     "metadata": {},
     "output_type": "execute_result"
    }
   ],
   "source": [
    "pd.DataFrame.from_dict(sfs_md_svm.get_metric_dict()).T"
   ]
  },
  {
   "cell_type": "code",
   "execution_count": 307,
   "id": "68e199de",
   "metadata": {},
   "outputs": [],
   "source": [
    "X_train_fs2 = X_train_res[X_train[['Education',\n",
    " 'Recency',\n",
    " 'MntWines',\n",
    " 'MntMeatProducts',\n",
    " 'MntFishProducts',\n",
    " 'MntSweetProducts',\n",
    " 'MntGoldProds',\n",
    " 'NumDealsPurchases',\n",
    " 'NumCatalogPurchases',\n",
    " 'NumStorePurchases',\n",
    " 'NumWebVisitsMonth',\n",
    " 'AcceptedCmp3',\n",
    " 'AcceptedCmp4',\n",
    " 'AcceptedCmp5',\n",
    " 'AcceptedCmp1',\n",
    " 'AcceptedCmp2',\n",
    " 'Complain',\n",
    " 'Age',\n",
    " 'JoiningYear',\n",
    " 'MaritalStatus_Spousal relationship']].columns]"
   ]
  },
  {
   "cell_type": "code",
   "execution_count": 308,
   "id": "4eca3f5a",
   "metadata": {},
   "outputs": [
    {
     "data": {
      "text/html": [
       "<style>#sk-container-id-27 {color: black;background-color: white;}#sk-container-id-27 pre{padding: 0;}#sk-container-id-27 div.sk-toggleable {background-color: white;}#sk-container-id-27 label.sk-toggleable__label {cursor: pointer;display: block;width: 100%;margin-bottom: 0;padding: 0.3em;box-sizing: border-box;text-align: center;}#sk-container-id-27 label.sk-toggleable__label-arrow:before {content: \"▸\";float: left;margin-right: 0.25em;color: #696969;}#sk-container-id-27 label.sk-toggleable__label-arrow:hover:before {color: black;}#sk-container-id-27 div.sk-estimator:hover label.sk-toggleable__label-arrow:before {color: black;}#sk-container-id-27 div.sk-toggleable__content {max-height: 0;max-width: 0;overflow: hidden;text-align: left;background-color: #f0f8ff;}#sk-container-id-27 div.sk-toggleable__content pre {margin: 0.2em;color: black;border-radius: 0.25em;background-color: #f0f8ff;}#sk-container-id-27 input.sk-toggleable__control:checked~div.sk-toggleable__content {max-height: 200px;max-width: 100%;overflow: auto;}#sk-container-id-27 input.sk-toggleable__control:checked~label.sk-toggleable__label-arrow:before {content: \"▾\";}#sk-container-id-27 div.sk-estimator input.sk-toggleable__control:checked~label.sk-toggleable__label {background-color: #d4ebff;}#sk-container-id-27 div.sk-label input.sk-toggleable__control:checked~label.sk-toggleable__label {background-color: #d4ebff;}#sk-container-id-27 input.sk-hidden--visually {border: 0;clip: rect(1px 1px 1px 1px);clip: rect(1px, 1px, 1px, 1px);height: 1px;margin: -1px;overflow: hidden;padding: 0;position: absolute;width: 1px;}#sk-container-id-27 div.sk-estimator {font-family: monospace;background-color: #f0f8ff;border: 1px dotted black;border-radius: 0.25em;box-sizing: border-box;margin-bottom: 0.5em;}#sk-container-id-27 div.sk-estimator:hover {background-color: #d4ebff;}#sk-container-id-27 div.sk-parallel-item::after {content: \"\";width: 100%;border-bottom: 1px solid gray;flex-grow: 1;}#sk-container-id-27 div.sk-label:hover label.sk-toggleable__label {background-color: #d4ebff;}#sk-container-id-27 div.sk-serial::before {content: \"\";position: absolute;border-left: 1px solid gray;box-sizing: border-box;top: 0;bottom: 0;left: 50%;z-index: 0;}#sk-container-id-27 div.sk-serial {display: flex;flex-direction: column;align-items: center;background-color: white;padding-right: 0.2em;padding-left: 0.2em;position: relative;}#sk-container-id-27 div.sk-item {position: relative;z-index: 1;}#sk-container-id-27 div.sk-parallel {display: flex;align-items: stretch;justify-content: center;background-color: white;position: relative;}#sk-container-id-27 div.sk-item::before, #sk-container-id-27 div.sk-parallel-item::before {content: \"\";position: absolute;border-left: 1px solid gray;box-sizing: border-box;top: 0;bottom: 0;left: 50%;z-index: -1;}#sk-container-id-27 div.sk-parallel-item {display: flex;flex-direction: column;z-index: 1;position: relative;background-color: white;}#sk-container-id-27 div.sk-parallel-item:first-child::after {align-self: flex-end;width: 50%;}#sk-container-id-27 div.sk-parallel-item:last-child::after {align-self: flex-start;width: 50%;}#sk-container-id-27 div.sk-parallel-item:only-child::after {width: 0;}#sk-container-id-27 div.sk-dashed-wrapped {border: 1px dashed gray;margin: 0 0.4em 0.5em 0.4em;box-sizing: border-box;padding-bottom: 0.4em;background-color: white;}#sk-container-id-27 div.sk-label label {font-family: monospace;font-weight: bold;display: inline-block;line-height: 1.2em;}#sk-container-id-27 div.sk-label-container {text-align: center;}#sk-container-id-27 div.sk-container {/* jupyter's `normalize.less` sets `[hidden] { display: none; }` but bootstrap.min.css set `[hidden] { display: none !important; }` so we also need the `!important` here to be able to override the default hidden behavior on the sphinx rendered scikit-learn.org. See: https://github.com/scikit-learn/scikit-learn/issues/21755 */display: inline-block !important;position: relative;}#sk-container-id-27 div.sk-text-repr-fallback {display: none;}</style><div id=\"sk-container-id-27\" class=\"sk-top-container\"><div class=\"sk-text-repr-fallback\"><pre>SVC(degree=2, kernel=&#x27;linear&#x27;, random_state=369)</pre><b>In a Jupyter environment, please rerun this cell to show the HTML representation or trust the notebook. <br />On GitHub, the HTML representation is unable to render, please try loading this page with nbviewer.org.</b></div><div class=\"sk-container\" hidden><div class=\"sk-item\"><div class=\"sk-estimator sk-toggleable\"><input class=\"sk-toggleable__control sk-hidden--visually\" id=\"sk-estimator-id-55\" type=\"checkbox\" checked><label for=\"sk-estimator-id-55\" class=\"sk-toggleable__label sk-toggleable__label-arrow\">SVC</label><div class=\"sk-toggleable__content\"><pre>SVC(degree=2, kernel=&#x27;linear&#x27;, random_state=369)</pre></div></div></div></div></div>"
      ],
      "text/plain": [
       "SVC(degree=2, kernel='linear', random_state=369)"
      ]
     },
     "execution_count": 308,
     "metadata": {},
     "output_type": "execute_result"
    }
   ],
   "source": [
    "svm_model = SVC(kernel='linear',gamma='scale',degree=2,random_state=369)\n",
    "svm_model.fit(X_train_fs2, y_train_res)"
   ]
  },
  {
   "cell_type": "code",
   "execution_count": 309,
   "id": "3ce32ec7",
   "metadata": {},
   "outputs": [
    {
     "data": {
      "text/plain": [
       "array([[ 0.53396071, -0.8417011 , -0.28767772,  0.89623454, -0.09828274,\n",
       "         0.20169954, -0.16242026,  0.45176532,  0.50106107, -0.55589702,\n",
       "         0.45290739,  0.67016878,  0.2744788 ,  0.58145894,  0.37290903,\n",
       "         0.32218996,  0.03686576, -0.15749736, -0.90197147, -0.44736179]])"
      ]
     },
     "execution_count": 309,
     "metadata": {},
     "output_type": "execute_result"
    }
   ],
   "source": [
    "svm_model.coef_"
   ]
  },
  {
   "cell_type": "code",
   "execution_count": 310,
   "id": "79893b64",
   "metadata": {},
   "outputs": [
    {
     "data": {
      "text/plain": [
       "array([-0.53519179])"
      ]
     },
     "execution_count": 310,
     "metadata": {},
     "output_type": "execute_result"
    }
   ],
   "source": [
    "svm_model.intercept_"
   ]
  },
  {
   "cell_type": "code",
   "execution_count": 312,
   "id": "a462f1ae",
   "metadata": {
    "scrolled": true
   },
   "outputs": [
    {
     "data": {
      "text/html": [
       "<div>\n",
       "<style scoped>\n",
       "    .dataframe tbody tr th:only-of-type {\n",
       "        vertical-align: middle;\n",
       "    }\n",
       "\n",
       "    .dataframe tbody tr th {\n",
       "        vertical-align: top;\n",
       "    }\n",
       "\n",
       "    .dataframe thead th {\n",
       "        text-align: right;\n",
       "    }\n",
       "</style>\n",
       "<table border=\"1\" class=\"dataframe\">\n",
       "  <thead>\n",
       "    <tr style=\"text-align: right;\">\n",
       "      <th></th>\n",
       "      <th>0</th>\n",
       "      <th>Coefficients</th>\n",
       "    </tr>\n",
       "  </thead>\n",
       "  <tbody>\n",
       "    <tr>\n",
       "      <th>0</th>\n",
       "      <td>0.533961</td>\n",
       "      <td>Education</td>\n",
       "    </tr>\n",
       "    <tr>\n",
       "      <th>1</th>\n",
       "      <td>-0.841701</td>\n",
       "      <td>Recency</td>\n",
       "    </tr>\n",
       "    <tr>\n",
       "      <th>2</th>\n",
       "      <td>-0.287678</td>\n",
       "      <td>MntWines</td>\n",
       "    </tr>\n",
       "    <tr>\n",
       "      <th>3</th>\n",
       "      <td>0.896235</td>\n",
       "      <td>MntMeatProducts</td>\n",
       "    </tr>\n",
       "    <tr>\n",
       "      <th>4</th>\n",
       "      <td>-0.098283</td>\n",
       "      <td>MntFishProducts</td>\n",
       "    </tr>\n",
       "    <tr>\n",
       "      <th>5</th>\n",
       "      <td>0.201700</td>\n",
       "      <td>MntSweetProducts</td>\n",
       "    </tr>\n",
       "    <tr>\n",
       "      <th>6</th>\n",
       "      <td>-0.162420</td>\n",
       "      <td>MntGoldProds</td>\n",
       "    </tr>\n",
       "    <tr>\n",
       "      <th>7</th>\n",
       "      <td>0.451765</td>\n",
       "      <td>NumDealsPurchases</td>\n",
       "    </tr>\n",
       "    <tr>\n",
       "      <th>8</th>\n",
       "      <td>0.501061</td>\n",
       "      <td>NumCatalogPurchases</td>\n",
       "    </tr>\n",
       "    <tr>\n",
       "      <th>9</th>\n",
       "      <td>-0.555897</td>\n",
       "      <td>NumStorePurchases</td>\n",
       "    </tr>\n",
       "    <tr>\n",
       "      <th>10</th>\n",
       "      <td>0.452907</td>\n",
       "      <td>NumWebVisitsMonth</td>\n",
       "    </tr>\n",
       "    <tr>\n",
       "      <th>11</th>\n",
       "      <td>0.670169</td>\n",
       "      <td>AcceptedCmp3</td>\n",
       "    </tr>\n",
       "    <tr>\n",
       "      <th>12</th>\n",
       "      <td>0.274479</td>\n",
       "      <td>AcceptedCmp4</td>\n",
       "    </tr>\n",
       "    <tr>\n",
       "      <th>13</th>\n",
       "      <td>0.581459</td>\n",
       "      <td>AcceptedCmp5</td>\n",
       "    </tr>\n",
       "    <tr>\n",
       "      <th>14</th>\n",
       "      <td>0.372909</td>\n",
       "      <td>AcceptedCmp1</td>\n",
       "    </tr>\n",
       "    <tr>\n",
       "      <th>15</th>\n",
       "      <td>0.322190</td>\n",
       "      <td>AcceptedCmp2</td>\n",
       "    </tr>\n",
       "    <tr>\n",
       "      <th>16</th>\n",
       "      <td>0.036866</td>\n",
       "      <td>Complain</td>\n",
       "    </tr>\n",
       "    <tr>\n",
       "      <th>17</th>\n",
       "      <td>-0.157497</td>\n",
       "      <td>Age</td>\n",
       "    </tr>\n",
       "    <tr>\n",
       "      <th>18</th>\n",
       "      <td>-0.901971</td>\n",
       "      <td>JoiningYear</td>\n",
       "    </tr>\n",
       "    <tr>\n",
       "      <th>19</th>\n",
       "      <td>-0.447362</td>\n",
       "      <td>MaritalStatus_Spousal relationship</td>\n",
       "    </tr>\n",
       "  </tbody>\n",
       "</table>\n",
       "</div>"
      ],
      "text/plain": [
       "           0                        Coefficients\n",
       "0   0.533961                           Education\n",
       "1  -0.841701                             Recency\n",
       "2  -0.287678                            MntWines\n",
       "3   0.896235                     MntMeatProducts\n",
       "4  -0.098283                     MntFishProducts\n",
       "5   0.201700                    MntSweetProducts\n",
       "6  -0.162420                        MntGoldProds\n",
       "7   0.451765                   NumDealsPurchases\n",
       "8   0.501061                 NumCatalogPurchases\n",
       "9  -0.555897                   NumStorePurchases\n",
       "10  0.452907                   NumWebVisitsMonth\n",
       "11  0.670169                        AcceptedCmp3\n",
       "12  0.274479                        AcceptedCmp4\n",
       "13  0.581459                        AcceptedCmp5\n",
       "14  0.372909                        AcceptedCmp1\n",
       "15  0.322190                        AcceptedCmp2\n",
       "16  0.036866                            Complain\n",
       "17 -0.157497                                 Age\n",
       "18 -0.901971                         JoiningYear\n",
       "19 -0.447362  MaritalStatus_Spousal relationship"
      ]
     },
     "execution_count": 312,
     "metadata": {},
     "output_type": "execute_result"
    }
   ],
   "source": [
    "coeff_info_svm = pd.DataFrame(svm_model.coef_).T\n",
    "coeff_info_svm['Coefficients'] = X_train_fs2.columns\n",
    "coeff_info_svm"
   ]
  },
  {
   "cell_type": "code",
   "execution_count": 314,
   "id": "20898ec6",
   "metadata": {},
   "outputs": [],
   "source": [
    "cat_pred_svm = svm_model.predict(X_test[X_train_fs2.columns])"
   ]
  },
  {
   "cell_type": "code",
   "execution_count": 315,
   "id": "2e2d2a9a",
   "metadata": {},
   "outputs": [],
   "source": [
    "from sklearn.metrics import classification_report, confusion_matrix"
   ]
  },
  {
   "cell_type": "code",
   "execution_count": 316,
   "id": "47f13cfb",
   "metadata": {},
   "outputs": [
    {
     "name": "stdout",
     "output_type": "stream",
     "text": [
      "Confusion Matrix:SVM:\n",
      "\n",
      "\n",
      "[[431 148]\n",
      " [ 14  79]]\n",
      "\n",
      "\n",
      "Classification Report:SVM:\n",
      "\n",
      "\n",
      "              precision    recall  f1-score   support\n",
      "\n",
      "           0       0.97      0.74      0.84       579\n",
      "           1       0.35      0.85      0.49        93\n",
      "\n",
      "    accuracy                           0.76       672\n",
      "   macro avg       0.66      0.80      0.67       672\n",
      "weighted avg       0.88      0.76      0.79       672\n",
      "\n"
     ]
    }
   ],
   "source": [
    "print('Confusion Matrix:SVM:')\n",
    "print('\\n')\n",
    "print(confusion_matrix(y_test,cat_pred_svm))\n",
    "print('\\n')\n",
    "print('Classification Report:SVM:')\n",
    "print('\\n')\n",
    "print(classification_report(y_test,cat_pred_svm))"
   ]
  },
  {
   "cell_type": "code",
   "execution_count": 218,
   "id": "f8e8cec1",
   "metadata": {},
   "outputs": [
    {
     "data": {
      "image/png": "[encoded data removed]",
      "text/plain": [
       "<Figure size 720x432 with 2 Axes>"
      ]
     },
     "metadata": {
      "needs_background": "light"
     },
     "output_type": "display_data"
    }
   ],
   "source": [
    "plt.figure(figsize=(10,6))\n",
    "fx=sns.heatmap(confusion_matrix(y_test,cat_pred_svm), annot=True, fmt=\".2f\",cmap=\"GnBu\")\n",
    "fx.set_title('Confusion Matrix - SVM \\n');\n",
    "fx.set_xlabel('\\n Predicted Values\\n')\n",
    "fx.set_ylabel('Actual Values\\n');\n",
    "fx.xaxis.set_ticklabels(['Subcription','No Subcription'])\n",
    "fx.yaxis.set_ticklabels(['Subcription','No Subcription'])\n",
    "plt.show()"
   ]
  },
  {
   "cell_type": "markdown",
   "id": "ad6e22fe",
   "metadata": {},
   "source": [
    "## Hyperparameter tuning"
   ]
  },
  {
   "cell_type": "code",
   "execution_count": 323,
   "id": "4661d15a",
   "metadata": {},
   "outputs": [
    {
     "name": "stdout",
     "output_type": "stream",
     "text": [
      "Fitting 5 folds for each of 16 candidates, totalling 80 fits\n",
      "[CV 1/5] END ........C=0.1, gamma=1, kernel=rbf;, score=0.609 total time=   0.3s\n",
      "[CV 2/5] END ........C=0.1, gamma=1, kernel=rbf;, score=0.609 total time=   0.3s\n",
      "[CV 3/5] END ........C=0.1, gamma=1, kernel=rbf;, score=0.608 total time=   0.4s\n",
      "[CV 4/5] END ........C=0.1, gamma=1, kernel=rbf;, score=0.606 total time=   0.3s\n",
      "[CV 5/5] END ........C=0.1, gamma=1, kernel=rbf;, score=0.613 total time=   0.3s\n",
      "[CV 1/5] END ......C=0.1, gamma=0.1, kernel=rbf;, score=0.883 total time=   0.1s\n",
      "[CV 2/5] END ......C=0.1, gamma=0.1, kernel=rbf;, score=0.906 total time=   0.1s\n",
      "[CV 3/5] END ......C=0.1, gamma=0.1, kernel=rbf;, score=0.863 total time=   0.1s\n",
      "[CV 4/5] END ......C=0.1, gamma=0.1, kernel=rbf;, score=0.885 total time=   0.1s\n",
      "[CV 5/5] END ......C=0.1, gamma=0.1, kernel=rbf;, score=0.876 total time=   0.2s\n",
      "[CV 1/5] END .....C=0.1, gamma=0.01, kernel=rbf;, score=0.874 total time=   0.2s\n",
      "[CV 2/5] END .....C=0.1, gamma=0.01, kernel=rbf;, score=0.910 total time=   0.2s\n",
      "[CV 3/5] END .....C=0.1, gamma=0.01, kernel=rbf;, score=0.851 total time=   0.2s\n",
      "[CV 4/5] END .....C=0.1, gamma=0.01, kernel=rbf;, score=0.881 total time=   0.2s\n",
      "[CV 5/5] END .....C=0.1, gamma=0.01, kernel=rbf;, score=0.854 total time=   0.2s\n",
      "[CV 1/5] END ....C=0.1, gamma=0.001, kernel=rbf;, score=0.753 total time=   0.3s\n",
      "[CV 2/5] END ....C=0.1, gamma=0.001, kernel=rbf;, score=0.753 total time=   0.3s\n",
      "[CV 3/5] END ....C=0.1, gamma=0.001, kernel=rbf;, score=0.709 total time=   0.3s\n",
      "[CV 4/5] END ....C=0.1, gamma=0.001, kernel=rbf;, score=0.732 total time=   0.3s\n",
      "[CV 5/5] END ....C=0.1, gamma=0.001, kernel=rbf;, score=0.723 total time=   0.2s\n",
      "[CV 1/5] END ..........C=1, gamma=1, kernel=rbf;, score=0.975 total time=   0.3s\n",
      "[CV 2/5] END ..........C=1, gamma=1, kernel=rbf;, score=0.975 total time=   0.3s\n",
      "[CV 3/5] END ..........C=1, gamma=1, kernel=rbf;, score=0.959 total time=   0.3s\n",
      "[CV 4/5] END ..........C=1, gamma=1, kernel=rbf;, score=0.964 total time=   0.3s\n",
      "[CV 5/5] END ..........C=1, gamma=1, kernel=rbf;, score=0.959 total time=   0.2s\n",
      "[CV 1/5] END ........C=1, gamma=0.1, kernel=rbf;, score=0.964 total time=   0.1s\n",
      "[CV 2/5] END ........C=1, gamma=0.1, kernel=rbf;, score=0.980 total time=   0.1s\n",
      "[CV 3/5] END ........C=1, gamma=0.1, kernel=rbf;, score=0.964 total time=   0.1s\n",
      "[CV 4/5] END ........C=1, gamma=0.1, kernel=rbf;, score=0.964 total time=   0.1s\n",
      "[CV 5/5] END ........C=1, gamma=0.1, kernel=rbf;, score=0.957 total time=   0.1s\n",
      "[CV 1/5] END .......C=1, gamma=0.01, kernel=rbf;, score=0.888 total time=   0.1s\n",
      "[CV 2/5] END .......C=1, gamma=0.01, kernel=rbf;, score=0.944 total time=   0.1s\n",
      "[CV 3/5] END .......C=1, gamma=0.01, kernel=rbf;, score=0.887 total time=   0.1s\n",
      "[CV 4/5] END .......C=1, gamma=0.01, kernel=rbf;, score=0.917 total time=   0.1s\n",
      "[CV 5/5] END .......C=1, gamma=0.01, kernel=rbf;, score=0.890 total time=   0.1s\n",
      "[CV 1/5] END ......C=1, gamma=0.001, kernel=rbf;, score=0.863 total time=   0.2s\n",
      "[CV 2/5] END ......C=1, gamma=0.001, kernel=rbf;, score=0.910 total time=   0.2s\n",
      "[CV 3/5] END ......C=1, gamma=0.001, kernel=rbf;, score=0.856 total time=   0.2s\n",
      "[CV 4/5] END ......C=1, gamma=0.001, kernel=rbf;, score=0.890 total time=   0.2s\n",
      "[CV 5/5] END ......C=1, gamma=0.001, kernel=rbf;, score=0.849 total time=   0.2s\n",
      "[CV 1/5] END .........C=10, gamma=1, kernel=rbf;, score=0.978 total time=   0.4s\n",
      "[CV 2/5] END .........C=10, gamma=1, kernel=rbf;, score=0.975 total time=   0.4s\n",
      "[CV 3/5] END .........C=10, gamma=1, kernel=rbf;, score=0.962 total time=   0.3s\n",
      "[CV 4/5] END .........C=10, gamma=1, kernel=rbf;, score=0.964 total time=   0.3s\n",
      "[CV 5/5] END .........C=10, gamma=1, kernel=rbf;, score=0.962 total time=   0.4s\n",
      "[CV 1/5] END .......C=10, gamma=0.1, kernel=rbf;, score=0.980 total time=   0.1s\n",
      "[CV 2/5] END .......C=10, gamma=0.1, kernel=rbf;, score=0.991 total time=   0.1s\n",
      "[CV 3/5] END .......C=10, gamma=0.1, kernel=rbf;, score=0.986 total time=   0.1s\n",
      "[CV 4/5] END .......C=10, gamma=0.1, kernel=rbf;, score=0.977 total time=   0.1s\n",
      "[CV 5/5] END .......C=10, gamma=0.1, kernel=rbf;, score=0.962 total time=   0.1s\n",
      "[CV 1/5] END ......C=10, gamma=0.01, kernel=rbf;, score=0.935 total time=   0.0s\n",
      "[CV 2/5] END ......C=10, gamma=0.01, kernel=rbf;, score=0.960 total time=   0.1s\n",
      "[CV 3/5] END ......C=10, gamma=0.01, kernel=rbf;, score=0.939 total time=   0.1s\n",
      "[CV 4/5] END ......C=10, gamma=0.01, kernel=rbf;, score=0.948 total time=   0.1s\n",
      "[CV 5/5] END ......C=10, gamma=0.01, kernel=rbf;, score=0.935 total time=   0.1s\n",
      "[CV 1/5] END .....C=10, gamma=0.001, kernel=rbf;, score=0.867 total time=   0.2s\n",
      "[CV 2/5] END .....C=10, gamma=0.001, kernel=rbf;, score=0.921 total time=   0.1s\n",
      "[CV 3/5] END .....C=10, gamma=0.001, kernel=rbf;, score=0.872 total time=   0.1s\n",
      "[CV 4/5] END .....C=10, gamma=0.001, kernel=rbf;, score=0.892 total time=   0.1s\n",
      "[CV 5/5] END .....C=10, gamma=0.001, kernel=rbf;, score=0.867 total time=   0.1s\n",
      "[CV 1/5] END ........C=100, gamma=1, kernel=rbf;, score=0.978 total time=   0.4s\n",
      "[CV 2/5] END ........C=100, gamma=1, kernel=rbf;, score=0.975 total time=   0.4s\n",
      "[CV 3/5] END ........C=100, gamma=1, kernel=rbf;, score=0.962 total time=   0.4s\n",
      "[CV 4/5] END ........C=100, gamma=1, kernel=rbf;, score=0.964 total time=   0.3s\n",
      "[CV 5/5] END ........C=100, gamma=1, kernel=rbf;, score=0.962 total time=   0.3s\n",
      "[CV 1/5] END ......C=100, gamma=0.1, kernel=rbf;, score=0.984 total time=   0.1s\n",
      "[CV 2/5] END ......C=100, gamma=0.1, kernel=rbf;, score=0.996 total time=   0.1s\n",
      "[CV 3/5] END ......C=100, gamma=0.1, kernel=rbf;, score=0.993 total time=   0.1s\n",
      "[CV 4/5] END ......C=100, gamma=0.1, kernel=rbf;, score=0.980 total time=   0.1s\n",
      "[CV 5/5] END ......C=100, gamma=0.1, kernel=rbf;, score=0.973 total time=   0.1s\n",
      "[CV 1/5] END .....C=100, gamma=0.01, kernel=rbf;, score=0.962 total time=   0.0s\n",
      "[CV 2/5] END .....C=100, gamma=0.01, kernel=rbf;, score=0.975 total time=   0.1s\n",
      "[CV 3/5] END .....C=100, gamma=0.01, kernel=rbf;, score=0.962 total time=   0.1s\n",
      "[CV 4/5] END .....C=100, gamma=0.01, kernel=rbf;, score=0.959 total time=   0.0s\n",
      "[CV 5/5] END .....C=100, gamma=0.01, kernel=rbf;, score=0.955 total time=   0.0s\n",
      "[CV 1/5] END ....C=100, gamma=0.001, kernel=rbf;, score=0.888 total time=   0.1s\n",
      "[CV 2/5] END ....C=100, gamma=0.001, kernel=rbf;, score=0.937 total time=   0.1s\n",
      "[CV 3/5] END ....C=100, gamma=0.001, kernel=rbf;, score=0.896 total time=   0.1s\n",
      "[CV 4/5] END ....C=100, gamma=0.001, kernel=rbf;, score=0.921 total time=   0.1s\n",
      "[CV 5/5] END ....C=100, gamma=0.001, kernel=rbf;, score=0.892 total time=   0.1s\n"
     ]
    },
    {
     "data": {
      "text/html": [
       "<style>#sk-container-id-31 {color: black;background-color: white;}#sk-container-id-31 pre{padding: 0;}#sk-container-id-31 div.sk-toggleable {background-color: white;}#sk-container-id-31 label.sk-toggleable__label {cursor: pointer;display: block;width: 100%;margin-bottom: 0;padding: 0.3em;box-sizing: border-box;text-align: center;}#sk-container-id-31 label.sk-toggleable__label-arrow:before {content: \"▸\";float: left;margin-right: 0.25em;color: #696969;}#sk-container-id-31 label.sk-toggleable__label-arrow:hover:before {color: black;}#sk-container-id-31 div.sk-estimator:hover label.sk-toggleable__label-arrow:before {color: black;}#sk-container-id-31 div.sk-toggleable__content {max-height: 0;max-width: 0;overflow: hidden;text-align: left;background-color: #f0f8ff;}#sk-container-id-31 div.sk-toggleable__content pre {margin: 0.2em;color: black;border-radius: 0.25em;background-color: #f0f8ff;}#sk-container-id-31 input.sk-toggleable__control:checked~div.sk-toggleable__content {max-height: 200px;max-width: 100%;overflow: auto;}#sk-container-id-31 input.sk-toggleable__control:checked~label.sk-toggleable__label-arrow:before {content: \"▾\";}#sk-container-id-31 div.sk-estimator input.sk-toggleable__control:checked~label.sk-toggleable__label {background-color: #d4ebff;}#sk-container-id-31 div.sk-label input.sk-toggleable__control:checked~label.sk-toggleable__label {background-color: #d4ebff;}#sk-container-id-31 input.sk-hidden--visually {border: 0;clip: rect(1px 1px 1px 1px);clip: rect(1px, 1px, 1px, 1px);height: 1px;margin: -1px;overflow: hidden;padding: 0;position: absolute;width: 1px;}#sk-container-id-31 div.sk-estimator {font-family: monospace;background-color: #f0f8ff;border: 1px dotted black;border-radius: 0.25em;box-sizing: border-box;margin-bottom: 0.5em;}#sk-container-id-31 div.sk-estimator:hover {background-color: #d4ebff;}#sk-container-id-31 div.sk-parallel-item::after {content: \"\";width: 100%;border-bottom: 1px solid gray;flex-grow: 1;}#sk-container-id-31 div.sk-label:hover label.sk-toggleable__label {background-color: #d4ebff;}#sk-container-id-31 div.sk-serial::before {content: \"\";position: absolute;border-left: 1px solid gray;box-sizing: border-box;top: 0;bottom: 0;left: 50%;z-index: 0;}#sk-container-id-31 div.sk-serial {display: flex;flex-direction: column;align-items: center;background-color: white;padding-right: 0.2em;padding-left: 0.2em;position: relative;}#sk-container-id-31 div.sk-item {position: relative;z-index: 1;}#sk-container-id-31 div.sk-parallel {display: flex;align-items: stretch;justify-content: center;background-color: white;position: relative;}#sk-container-id-31 div.sk-item::before, #sk-container-id-31 div.sk-parallel-item::before {content: \"\";position: absolute;border-left: 1px solid gray;box-sizing: border-box;top: 0;bottom: 0;left: 50%;z-index: -1;}#sk-container-id-31 div.sk-parallel-item {display: flex;flex-direction: column;z-index: 1;position: relative;background-color: white;}#sk-container-id-31 div.sk-parallel-item:first-child::after {align-self: flex-end;width: 50%;}#sk-container-id-31 div.sk-parallel-item:last-child::after {align-self: flex-start;width: 50%;}#sk-container-id-31 div.sk-parallel-item:only-child::after {width: 0;}#sk-container-id-31 div.sk-dashed-wrapped {border: 1px dashed gray;margin: 0 0.4em 0.5em 0.4em;box-sizing: border-box;padding-bottom: 0.4em;background-color: white;}#sk-container-id-31 div.sk-label label {font-family: monospace;font-weight: bold;display: inline-block;line-height: 1.2em;}#sk-container-id-31 div.sk-label-container {text-align: center;}#sk-container-id-31 div.sk-container {/* jupyter's `normalize.less` sets `[hidden] { display: none; }` but bootstrap.min.css set `[hidden] { display: none !important; }` so we also need the `!important` here to be able to override the default hidden behavior on the sphinx rendered scikit-learn.org. See: https://github.com/scikit-learn/scikit-learn/issues/21755 */display: inline-block !important;position: relative;}#sk-container-id-31 div.sk-text-repr-fallback {display: none;}</style><div id=\"sk-container-id-31\" class=\"sk-top-container\"><div class=\"sk-text-repr-fallback\"><pre>GridSearchCV(estimator=SVC(),\n",
       "             param_grid={&#x27;C&#x27;: [0.1, 1, 10, 100], &#x27;gamma&#x27;: [1, 0.1, 0.01, 0.001],\n",
       "                         &#x27;kernel&#x27;: [&#x27;rbf&#x27;]},\n",
       "             verbose=3)</pre><b>In a Jupyter environment, please rerun this cell to show the HTML representation or trust the notebook. <br />On GitHub, the HTML representation is unable to render, please try loading this page with nbviewer.org.</b></div><div class=\"sk-container\" hidden><div class=\"sk-item sk-dashed-wrapped\"><div class=\"sk-label-container\"><div class=\"sk-label sk-toggleable\"><input class=\"sk-toggleable__control sk-hidden--visually\" id=\"sk-estimator-id-63\" type=\"checkbox\" ><label for=\"sk-estimator-id-63\" class=\"sk-toggleable__label sk-toggleable__label-arrow\">GridSearchCV</label><div class=\"sk-toggleable__content\"><pre>GridSearchCV(estimator=SVC(),\n",
       "             param_grid={&#x27;C&#x27;: [0.1, 1, 10, 100], &#x27;gamma&#x27;: [1, 0.1, 0.01, 0.001],\n",
       "                         &#x27;kernel&#x27;: [&#x27;rbf&#x27;]},\n",
       "             verbose=3)</pre></div></div></div><div class=\"sk-parallel\"><div class=\"sk-parallel-item\"><div class=\"sk-item\"><div class=\"sk-label-container\"><div class=\"sk-label sk-toggleable\"><input class=\"sk-toggleable__control sk-hidden--visually\" id=\"sk-estimator-id-64\" type=\"checkbox\" ><label for=\"sk-estimator-id-64\" class=\"sk-toggleable__label sk-toggleable__label-arrow\">estimator: SVC</label><div class=\"sk-toggleable__content\"><pre>SVC()</pre></div></div></div><div class=\"sk-serial\"><div class=\"sk-item\"><div class=\"sk-estimator sk-toggleable\"><input class=\"sk-toggleable__control sk-hidden--visually\" id=\"sk-estimator-id-65\" type=\"checkbox\" ><label for=\"sk-estimator-id-65\" class=\"sk-toggleable__label sk-toggleable__label-arrow\">SVC</label><div class=\"sk-toggleable__content\"><pre>SVC()</pre></div></div></div></div></div></div></div></div></div></div>"
      ],
      "text/plain": [
       "GridSearchCV(estimator=SVC(),\n",
       "             param_grid={'C': [0.1, 1, 10, 100], 'gamma': [1, 0.1, 0.01, 0.001],\n",
       "                         'kernel': ['rbf']},\n",
       "             verbose=3)"
      ]
     },
     "execution_count": 323,
     "metadata": {},
     "output_type": "execute_result"
    }
   ],
   "source": [
    "from sklearn.model_selection import GridSearchCV\n",
    "\n",
    "paramaters = {'C': [0.1, 1, 10, 100], \n",
    "              'gamma': [1, 0.1, 0.01, 0.001],\n",
    "              'kernel': ['rbf']} \n",
    "  \n",
    "grid_cv = GridSearchCV(SVC(), paramaters, refit = True, verbose = 3)\n",
    "\n",
    "grid_cv.fit(X_train_fs2, y_train_res)"
   ]
  },
  {
   "cell_type": "code",
   "execution_count": 324,
   "id": "12d72b86",
   "metadata": {},
   "outputs": [
    {
     "data": {
      "text/plain": [
       "{'C': 100, 'gamma': 0.1, 'kernel': 'rbf'}"
      ]
     },
     "execution_count": 324,
     "metadata": {},
     "output_type": "execute_result"
    }
   ],
   "source": [
    "grid_cv.best_params_"
   ]
  },
  {
   "cell_type": "code",
   "execution_count": 325,
   "id": "19b121b4",
   "metadata": {},
   "outputs": [
    {
     "data": {
      "text/html": [
       "<style>#sk-container-id-32 {color: black;background-color: white;}#sk-container-id-32 pre{padding: 0;}#sk-container-id-32 div.sk-toggleable {background-color: white;}#sk-container-id-32 label.sk-toggleable__label {cursor: pointer;display: block;width: 100%;margin-bottom: 0;padding: 0.3em;box-sizing: border-box;text-align: center;}#sk-container-id-32 label.sk-toggleable__label-arrow:before {content: \"▸\";float: left;margin-right: 0.25em;color: #696969;}#sk-container-id-32 label.sk-toggleable__label-arrow:hover:before {color: black;}#sk-container-id-32 div.sk-estimator:hover label.sk-toggleable__label-arrow:before {color: black;}#sk-container-id-32 div.sk-toggleable__content {max-height: 0;max-width: 0;overflow: hidden;text-align: left;background-color: #f0f8ff;}#sk-container-id-32 div.sk-toggleable__content pre {margin: 0.2em;color: black;border-radius: 0.25em;background-color: #f0f8ff;}#sk-container-id-32 input.sk-toggleable__control:checked~div.sk-toggleable__content {max-height: 200px;max-width: 100%;overflow: auto;}#sk-container-id-32 input.sk-toggleable__control:checked~label.sk-toggleable__label-arrow:before {content: \"▾\";}#sk-container-id-32 div.sk-estimator input.sk-toggleable__control:checked~label.sk-toggleable__label {background-color: #d4ebff;}#sk-container-id-32 div.sk-label input.sk-toggleable__control:checked~label.sk-toggleable__label {background-color: #d4ebff;}#sk-container-id-32 input.sk-hidden--visually {border: 0;clip: rect(1px 1px 1px 1px);clip: rect(1px, 1px, 1px, 1px);height: 1px;margin: -1px;overflow: hidden;padding: 0;position: absolute;width: 1px;}#sk-container-id-32 div.sk-estimator {font-family: monospace;background-color: #f0f8ff;border: 1px dotted black;border-radius: 0.25em;box-sizing: border-box;margin-bottom: 0.5em;}#sk-container-id-32 div.sk-estimator:hover {background-color: #d4ebff;}#sk-container-id-32 div.sk-parallel-item::after {content: \"\";width: 100%;border-bottom: 1px solid gray;flex-grow: 1;}#sk-container-id-32 div.sk-label:hover label.sk-toggleable__label {background-color: #d4ebff;}#sk-container-id-32 div.sk-serial::before {content: \"\";position: absolute;border-left: 1px solid gray;box-sizing: border-box;top: 0;bottom: 0;left: 50%;z-index: 0;}#sk-container-id-32 div.sk-serial {display: flex;flex-direction: column;align-items: center;background-color: white;padding-right: 0.2em;padding-left: 0.2em;position: relative;}#sk-container-id-32 div.sk-item {position: relative;z-index: 1;}#sk-container-id-32 div.sk-parallel {display: flex;align-items: stretch;justify-content: center;background-color: white;position: relative;}#sk-container-id-32 div.sk-item::before, #sk-container-id-32 div.sk-parallel-item::before {content: \"\";position: absolute;border-left: 1px solid gray;box-sizing: border-box;top: 0;bottom: 0;left: 50%;z-index: -1;}#sk-container-id-32 div.sk-parallel-item {display: flex;flex-direction: column;z-index: 1;position: relative;background-color: white;}#sk-container-id-32 div.sk-parallel-item:first-child::after {align-self: flex-end;width: 50%;}#sk-container-id-32 div.sk-parallel-item:last-child::after {align-self: flex-start;width: 50%;}#sk-container-id-32 div.sk-parallel-item:only-child::after {width: 0;}#sk-container-id-32 div.sk-dashed-wrapped {border: 1px dashed gray;margin: 0 0.4em 0.5em 0.4em;box-sizing: border-box;padding-bottom: 0.4em;background-color: white;}#sk-container-id-32 div.sk-label label {font-family: monospace;font-weight: bold;display: inline-block;line-height: 1.2em;}#sk-container-id-32 div.sk-label-container {text-align: center;}#sk-container-id-32 div.sk-container {/* jupyter's `normalize.less` sets `[hidden] { display: none; }` but bootstrap.min.css set `[hidden] { display: none !important; }` so we also need the `!important` here to be able to override the default hidden behavior on the sphinx rendered scikit-learn.org. See: https://github.com/scikit-learn/scikit-learn/issues/21755 */display: inline-block !important;position: relative;}#sk-container-id-32 div.sk-text-repr-fallback {display: none;}</style><div id=\"sk-container-id-32\" class=\"sk-top-container\"><div class=\"sk-text-repr-fallback\"><pre>SVC(C=100, gamma=0.1)</pre><b>In a Jupyter environment, please rerun this cell to show the HTML representation or trust the notebook. <br />On GitHub, the HTML representation is unable to render, please try loading this page with nbviewer.org.</b></div><div class=\"sk-container\" hidden><div class=\"sk-item\"><div class=\"sk-estimator sk-toggleable\"><input class=\"sk-toggleable__control sk-hidden--visually\" id=\"sk-estimator-id-66\" type=\"checkbox\" checked><label for=\"sk-estimator-id-66\" class=\"sk-toggleable__label sk-toggleable__label-arrow\">SVC</label><div class=\"sk-toggleable__content\"><pre>SVC(C=100, gamma=0.1)</pre></div></div></div></div></div>"
      ],
      "text/plain": [
       "SVC(C=100, gamma=0.1)"
      ]
     },
     "execution_count": 325,
     "metadata": {},
     "output_type": "execute_result"
    }
   ],
   "source": [
    "grid_cv.best_estimator_"
   ]
  },
  {
   "cell_type": "code",
   "execution_count": null,
   "id": "d3affe9d",
   "metadata": {},
   "outputs": [],
   "source": []
  },
  {
   "cell_type": "code",
   "execution_count": 326,
   "id": "4aafa405",
   "metadata": {},
   "outputs": [],
   "source": [
    "best_pred = grid_cv.predict(X_test[X_train_fs2.columns])"
   ]
  },
  {
   "cell_type": "code",
   "execution_count": 327,
   "id": "4bfd03b9",
   "metadata": {},
   "outputs": [
    {
     "name": "stdout",
     "output_type": "stream",
     "text": [
      "Confusion Matrix:SVM:\n",
      "\n",
      "\n",
      "[[496  83]\n",
      " [ 24  69]]\n",
      "\n",
      "\n",
      "Classification Report:SVM:\n",
      "\n",
      "\n",
      "              precision    recall  f1-score   support\n",
      "\n",
      "           0       0.95      0.86      0.90       579\n",
      "           1       0.45      0.74      0.56        93\n",
      "\n",
      "    accuracy                           0.84       672\n",
      "   macro avg       0.70      0.80      0.73       672\n",
      "weighted avg       0.88      0.84      0.86       672\n",
      "\n"
     ]
    }
   ],
   "source": [
    "print('Confusion Matrix:SVM:')\n",
    "print('\\n')\n",
    "print(confusion_matrix(y_test,best_pred))\n",
    "print('\\n')\n",
    "print('Classification Report:SVM:')\n",
    "print('\\n')\n",
    "print(classification_report(y_test,best_pred))"
   ]
  },
  {
   "cell_type": "code",
   "execution_count": 333,
   "id": "a621b6af",
   "metadata": {},
   "outputs": [
    {
     "data": {
      "image/png": "[encoded data removed]",
      "text/plain": [
       "<Figure size 720x432 with 2 Axes>"
      ]
     },
     "metadata": {
      "needs_background": "light"
     },
     "output_type": "display_data"
    }
   ],
   "source": [
    "plt.figure(figsize=(10,6))\n",
    "fx=sns.heatmap(confusion_matrix(y_test,best_pred), annot=True, fmt=\".2f\",cmap=\"RdGy\")\n",
    "fx.set_title('Confusion Matrix - SVM \\n');\n",
    "fx.set_xlabel('\\n Predicted Values\\n')\n",
    "fx.set_ylabel('Actual Values\\n');\n",
    "fx.xaxis.set_ticklabels(['Offer Accepted','Offer Not Accepted'])\n",
    "fx.yaxis.set_ticklabels(['Offer Accepted','Offer Not Accepted'])\n",
    "plt.show()"
   ]
  },
  {
   "cell_type": "code",
   "execution_count": null,
   "id": "34f8f18b",
   "metadata": {},
   "outputs": [],
   "source": []
  }
 ],
 "metadata": {
  "kernelspec": {
   "display_name": "Python [conda env:root] *",
   "language": "python",
   "name": "conda-root-py"
  },
  "language_info": {
   "codemirror_mode": {
    "name": "ipython",
    "version": 3
   },
   "file_extension": ".py",
   "mimetype": "text/x-python",
   "name": "python",
   "nbconvert_exporter": "python",
   "pygments_lexer": "ipython3",
   "version": "3.9.7"
  }
 },
 "nbformat": 4,
 "nbformat_minor": 5
}
